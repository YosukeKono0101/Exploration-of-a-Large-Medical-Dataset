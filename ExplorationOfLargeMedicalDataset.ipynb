{
 "cells": [
  {
   "cell_type": "markdown",
   "id": "26acc122",
   "metadata": {},
   "source": [
    "### Task 1"
   ]
  },
  {
   "cell_type": "code",
   "execution_count": 1,
   "id": "3787c170",
   "metadata": {},
   "outputs": [],
   "source": [
    "import pandas as pd\n",
    "\n",
    "raw_data = pd.read_csv('D1.csv')"
   ]
  },
  {
   "cell_type": "markdown",
   "id": "d46ce076",
   "metadata": {},
   "source": [
    "1. Examine the data types assigned by the 'Pandas' library for each variable. Check them with the dataset description provided in Table 1."
   ]
  },
  {
   "cell_type": "code",
   "execution_count": 2,
   "id": "fcadea66",
   "metadata": {},
   "outputs": [
    {
     "name": "stdout",
     "output_type": "stream",
     "text": [
      "<class 'pandas.core.frame.DataFrame'>\n",
      "RangeIndex: 6110 entries, 0 to 6109\n",
      "Data columns (total 43 columns):\n",
      " #   Column                  Non-Null Count  Dtype  \n",
      "---  ------                  --------------  -----  \n",
      " 0   survey_date             6110 non-null   object \n",
      " 1   region                  1659 non-null   object \n",
      " 2   country                 6107 non-null   object \n",
      " 3   ip_latitude             6110 non-null   float64\n",
      " 4   ip_longitude            6110 non-null   float64\n",
      " 5   ip_accuracy             6110 non-null   int64  \n",
      " 6   gender                  6110 non-null   object \n",
      " 7   age                     6110 non-null   object \n",
      " 8   height                  6110 non-null   int64  \n",
      " 9   weight                  6110 non-null   int64  \n",
      " 10  bmi                     6110 non-null   float64\n",
      " 11  blood_type              5997 non-null   object \n",
      " 12  insurance               4758 non-null   object \n",
      " 13  income                  4916 non-null   object \n",
      " 14  race                    4942 non-null   object \n",
      " 15  immigrant               4942 non-null   object \n",
      " 16  smoking                 6071 non-null   object \n",
      " 17  alcohol                 6069 non-null   float64\n",
      " 18  cannabis                1583 non-null   float64\n",
      " 19  amphetamines            1503 non-null   float64\n",
      " 20  cocaine                 1491 non-null   float64\n",
      " 21  contacts_count          6064 non-null   float64\n",
      " 22  house_count             5872 non-null   float64\n",
      " 23  public_transport_count  4842 non-null   float64\n",
      " 24  working                 6064 non-null   object \n",
      " 25  worried                 4778 non-null   float64\n",
      " 26  covid19_positive        6110 non-null   int64  \n",
      " 27  covid19_symptoms        6110 non-null   int64  \n",
      " 28  covid19_contact         6110 non-null   int64  \n",
      " 29  asthma                  6110 non-null   int64  \n",
      " 30  kidney_disease          6110 non-null   int64  \n",
      " 31  liver_disease           6110 non-null   int64  \n",
      " 32  compromised_immune      6110 non-null   int64  \n",
      " 33  heart_disease           6110 non-null   int64  \n",
      " 34  lung_disease            6110 non-null   int64  \n",
      " 35  diabetes                6110 non-null   int64  \n",
      " 36  hiv_positive            6110 non-null   int64  \n",
      " 37  hypertension            6110 non-null   int64  \n",
      " 38  other_chronic           6110 non-null   int64  \n",
      " 39  nursing_home            6110 non-null   int64  \n",
      " 40  health_worker           6110 non-null   int64  \n",
      " 41  risk_infection          6110 non-null   float64\n",
      " 42  risk_mortality          6110 non-null   float64\n",
      "dtypes: float64(13), int64(18), object(12)\n",
      "memory usage: 2.0+ MB\n"
     ]
    }
   ],
   "source": [
    "raw_data.info()"
   ]
  },
  {
   "cell_type": "code",
   "execution_count": 3,
   "id": "74263579",
   "metadata": {},
   "outputs": [
    {
     "name": "stdout",
     "output_type": "stream",
     "text": [
      "survey_date\n",
      "['24/03/2020' '25/03/2020' '26/03/2020' '27/03/2020' '28/03/2020'\n",
      " '29/03/2020' '30/03/2020' '31/03/2020' '1/04/2020' '2/04/2020'\n",
      " '3/04/2020' '4/04/2020' '5/04/2020' '6/04/2020' '7/04/2020' '8/04/2020'\n",
      " '9/04/2020' '10/04/2020' '11/04/2020' '12/04/2020' '13/04/2020'\n",
      " '14/04/2020' '15/04/2020' '16/04/2020' '17/04/2020' '18/04/2020'\n",
      " '19/04/2020' '20/04/2020' '21/04/2020' '22/04/2020' '23/04/2020'\n",
      " '24/04/2020' '25/04/2020' '26/04/2020' '27/04/2020' '28/04/2020'\n",
      " '29/04/2020' '30/04/2020' '1/05/2020' '2/05/2020' '3/05/2020' '4/05/2020'\n",
      " '5/05/2020' '6/05/2020' '7/05/2020' '8/05/2020' '9/05/2020' '10/05/2020'\n",
      " '11/05/2020' '12/05/2020' '13/05/2020' '14/05/2020' '15/05/2020'\n",
      " '16/05/2020' '17/05/2020' '18/05/2020' '19/05/2020' '20/05/2020'\n",
      " '21/05/2020' '22/05/2020' '23/05/2020' '24/05/2020' '25/05/2020'\n",
      " '26/05/2020' '27/05/2020' '28/05/2020' '29/05/2020' '30/05/2020'\n",
      " '31/05/2020' '1/06/2020' '2/06/2020' '3/06/2020' '4/06/2020' '5/06/2020'\n",
      " '6/06/2020' '7/06/2020' '8/06/2020' '9/06/2020' '10/06/2020' '11/06/2020'\n",
      " '12/06/2020' '13/06/2020' '14/06/2020' '15/06/2020' '16/06/2020'\n",
      " '17/06/2020' '18/06/2020' '19/06/2020' '20/06/2020' '21/06/2020'\n",
      " '22/06/2020' '23/06/2020' '24/06/2020' '25/06/2020' '26/06/2020'\n",
      " '27/06/2020' '28/06/2020' '29/06/2020' '30/06/2020' '1/07/2020'\n",
      " '2/07/2020' '3/07/2020' '4/07/2020' '5/07/2020' '6/07/2020' '7/07/2020'\n",
      " '8/07/2020' '2/12/2020' '3/12/2020' '4/12/2020' '5/12/2020' '6/12/2020'\n",
      " '7/12/2020' '8/12/2020' '9/12/2020' '10/12/2020' '11/12/2020'\n",
      " '12/12/2020' '13/12/2020' '14/12/2020' '15/12/2020']\n",
      "\n",
      "region\n",
      "[nan 'EU' 'OC' 'SA' 'AS' 'AF']\n",
      "\n",
      "country\n",
      "['US' 'CA' 'RO' 'NL' 'AU' 'NZ' nan 'GB' 'CH' 'BE' 'BR' 'PH' 'JP' 'PK' 'ES'\n",
      " 'LT' 'RU' 'DK' 'DE' 'MX' 'MK' 'HK' 'SE' 'CL' 'HU' 'IE' 'SG' 'IT' 'ZA'\n",
      " 'BG' 'MT' 'IL' 'CZ' 'GE' 'FR' 'CO' 'AR' 'GR' 'UA' 'ID' 'AE' 'BH' 'IN'\n",
      " 'GT' 'AT' 'MD' 'BD' 'SK' 'SA' 'TR' 'EG' 'PE' 'HN' 'ET' 'EC' 'IR' 'PS'\n",
      " 'IQ' 'DO' 'RS' 'PT' 'KZ' 'DZ' 'PA' 'QA' 'SV' 'PL' 'MO' 'BS' 'TH' 'HR'\n",
      " 'CR' 'BA' 'AM' 'SI' 'NO' 'AD' 'KR' 'MY' 'LV' 'LU' 'NP' 'MU' 'FI' 'VI'\n",
      " 'AW' 'MM' 'KE' 'PR' 'MZ' 'KY' 'MA' 'AZ' 'BM' 'JE' 'PY']\n",
      "\n",
      "ip_latitude\n",
      "[32.28   40.7253 40.7053 ... 49.4186 32.8672 40.59  ]\n",
      "\n",
      "ip_longitude\n",
      "[-110.845  -111.9229 -111.8928 ... -122.9928 -117.0729  -74.5554]\n",
      "\n",
      "ip_accuracy\n",
      "[  20    5   10  500  100    1   50  200 1000]\n",
      "\n",
      "gender\n",
      "['male' 'female' 'other']\n",
      "\n",
      "age\n",
      "['30_40' '70_80' '50_60' '20_30' '60_70' '40_50' '80_90' '90_100' '10_20'\n",
      " '0_10' '100_110']\n",
      "\n",
      "height\n",
      "[174 182 184 164 192 180 186 176 172 178 190 158 132 170 152 162 166 168\n",
      " 154 160 156 150 194 188 198 196 136 146 144 138 148 114 116 238 134 126\n",
      " 204 228 122 200 118 110 120 128 210 124 112 202 130 216]\n",
      "\n",
      "weight\n",
      "[ 64 118  72  92 100  80  84 116  82  68  78 180  96 136  62 114  58  76\n",
      " 160 104  70 124 106  52  56  66  90  54 102  88  60  86 122 112  50 146\n",
      "  74 138 128 132  48  98 126 134  94 130  44 164 110 158  46 150 140 148\n",
      " 152 166 108 144 120 162 168 176 178 174 142 154 156 170]\n",
      "\n",
      "bmi\n",
      "[ 21.1  35.6  34.8  26.7  24.9  30.8  23.6  25.9  35.   23.7  21.9  25.7\n",
      "  29.5  22.5  55.5  25.2  22.4  32.4  31.2  40.1  20.   35.9  16.   22.9\n",
      "  50.4  37.2  41.6  24.7  33.8  24.6  71.1  28.7  19.3  24.2  22.1  25.3\n",
      "  44.2  32.   23.9  22.6  27.7  21.6  31.4  22.3  23.2  25.1  18.9  25.8\n",
      "  26.1  29.   20.7  35.2  40.6  19.5  34.2  25.4  21.3  49.3  32.9  31.8\n",
      "  24.4  39.8  36.2  40.   32.6  37.8  36.5  43.1  47.8  30.2  26.5  29.4\n",
      "  30.6  26.2  22.2  26.4  46.2  24.8  25.   27.6  30.9  28.2  19.1  41.8\n",
      "  28.4  25.6  29.7  22.8  50.9  39.7  24.   28.9  36.1  34.4  52.   20.8\n",
      "  16.9  20.9  31.9  39.3  45.9  42.2  30.4  21.   34.9  35.3  24.3  39.6\n",
      "  26.6  32.5  29.9  41.   28.6  36.6  32.2  28.   23.5  31.1  33.3  45.3\n",
      "  23.   20.2  39.5  26.9  17.1  31.   42.6  27.1  41.3  34.   36.4  46.6\n",
      "  36.3  68.3  21.5  54.4  33.6  27.9  46.3  40.8  32.3  33.   50.7  54.8\n",
      "  33.5  27.8  28.3  30.   37.6  40.3  23.4  34.1  40.2  20.6  28.1  43.2\n",
      "  49.8  31.6  32.8  34.5  32.7  43.3  16.2  37.9  38.6  65.3  23.1  18.5\n",
      "  35.1  23.8  21.7  41.2  41.9  37.1  42.1  47.3  44.9  38.7  22.7  26.\n",
      "  38.2  39.2  27.2  47.1  38.1  36.8  47.9  24.5  21.8  44.8  39.   35.8\n",
      "  31.7  44.1  34.3  38.3  37.3  26.3  41.7  36.9  30.1  51.3  19.9  30.7\n",
      "  37.7  27.5  30.3  27.   42.   55.6  18.6  40.9  29.6  58.1  31.5  48.8\n",
      "  86.5  20.3  36.   33.9  19.8  59.2  34.6  50.8  42.9  32.1  18.3  21.4\n",
      "  15.8  47.2  25.5  47.5  46.4  46.8  68.5  44.3  52.2  39.9  40.4  35.5\n",
      "  40.7  47.7  34.7  19.7  29.3  43.5  38.   54.9  52.4  56.8  43.9  37.5\n",
      "  35.4  63.7  38.8  24.1  53.1  55.1  48.7  53.   48.3  19.6  45.   29.1\n",
      "  33.4  15.4  37.   47.4  45.6  22.   33.1  45.5  23.3  54.   46.7  33.2\n",
      "  42.4  50.1  17.9  27.4  38.4  19.   21.2  20.1  48.1  20.4  20.5  11.9\n",
      "  51.   57.3  39.1  38.9  27.3  57.6  17.5  55.3  72.1  52.5  17.8  44.\n",
      "  49.   28.8  47.   17.6  36.7  53.9  63.2  18.4  18.   16.6  57.7  33.7\n",
      " 114.   67.   60.1  59.4  15.5 125.   15.   57.1  58.3  52.8  16.7  42.5\n",
      "  37.4  42.8  18.8  63.1  28.5  19.2  56.   40.5  29.2  44.6  26.8  44.4\n",
      "  50.5  47.6  17.2  43.   17.7  51.4  49.7  41.1  60.9  43.8  31.3  39.4\n",
      "  17.   49.1  15.7  17.3  16.4  38.5  18.1  43.4  45.2  18.2  60.3  44.5\n",
      "  30.5  56.5  46.9  59.8  17.4  42.7  70.8  51.9  18.7  50.   56.2  64.8\n",
      "  50.3  16.5  49.5  14.7  45.8  46.1  41.4  53.7  54.6  48.   63.   19.4\n",
      "  45.7  46.   16.1  42.3  54.2  50.2  15.3  15.9  16.3  52.1  41.5  45.1\n",
      "  56.1  53.6  48.5  53.4  48.2  48.6]\n",
      "\n",
      "blood_type\n",
      "['bp' 'unknown' 'an' 'ap' 'on' 'op' 'abp' 'abn' 'bn' nan]\n",
      "\n",
      "insurance\n",
      "[nan 'yes' 'blank' 'no']\n",
      "\n",
      "income\n",
      "[nan 'med' 'low' 'high' 'gov' 'blank']\n",
      "\n",
      "race\n",
      "[nan 'mixed' 'white' 'asian' 'black' 'blank' 'hispanic' 'other']\n",
      "\n",
      "immigrant\n",
      "[nan 'native' 'immigrant' 'blank']\n",
      "\n",
      "smoking\n",
      "[nan 'never' 'quit0' 'quit5' 'yeslight' 'quit10' 'yesheavy' 'yesmedium'\n",
      " 'vape']\n",
      "\n",
      "alcohol\n",
      "[-1.  0. 14.  5.  2. 11.  1.  6.  4.  7.  3.  9. 10. 12. 13.  8. nan]\n",
      "\n",
      "cannabis\n",
      "[ 0. -1. nan 10. 28.  2. 20. 15. 25.  1.  3. 27. 14.  4.  7. 21. 23. 24.\n",
      "  9.  8.  6.  5. 16. 26. 18. 12. -2. 17. 13. 22. 11. 19.]\n",
      "\n",
      "amphetamines\n",
      "[-1. -2. nan  0.  6. 28. 27.  5. 17.  1. 21.  4. 14. 11.  9. 23. 25.  7.\n",
      "  8.  2. 10. 20. 12. 24. 26.  3. 15. 22.]\n",
      "\n",
      "cocaine\n",
      "[-1. nan  0.  3.  4.  1. 27.  2.  9. 20.  5. 28. 10.  7. 14. 23. 21.  6.\n",
      " 15. 22. 16. 25. 12.]\n",
      "\n",
      "contacts_count\n",
      "[nan 21.  2. 10.  5.  3.  6.  9.  1. 14. 15.  4.  0. 12.  7. 11.  8. 13.\n",
      " 19. 20. 16. 17. 18.]\n",
      "\n",
      "house_count\n",
      "[ 2.  3.  1.  5.  4.  8. 10. 11.  6.  7.  9. nan]\n",
      "\n",
      "public_transport_count\n",
      "[nan  0.  2. 14.  1.  4.  5. 10.  3. 15.  6. 12.  8. 11.  7. 13.  9.]\n",
      "\n",
      "working\n",
      "[nan 'stopped' 'travel critical' 'never' 'home' 'travel non critical']\n",
      "\n",
      "worried\n",
      "[nan  4.  3.  2.  5.  1.]\n",
      "\n",
      "covid19_positive\n",
      "[1 0]\n",
      "\n",
      "covid19_symptoms\n",
      "[1 0]\n",
      "\n",
      "covid19_contact\n",
      "[0 1]\n",
      "\n",
      "asthma\n",
      "[0 1]\n",
      "\n",
      "kidney_disease\n",
      "[0 1]\n",
      "\n",
      "liver_disease\n",
      "[0 1]\n",
      "\n",
      "compromised_immune\n",
      "[0 1]\n",
      "\n",
      "heart_disease\n",
      "[0 1]\n",
      "\n",
      "lung_disease\n",
      "[0 1]\n",
      "\n",
      "diabetes\n",
      "[0 1]\n",
      "\n",
      "hiv_positive\n",
      "[0 1]\n",
      "\n",
      "hypertension\n",
      "[0 1]\n",
      "\n",
      "other_chronic\n",
      "[0 1]\n",
      "\n",
      "nursing_home\n",
      "[0 1]\n",
      "\n",
      "health_worker\n",
      "[0 1]\n",
      "\n",
      "risk_infection\n",
      "[100.      5.      6.     19.     37.     13.     75.     32.     49.\n",
      "  12.     26.     43.     62.     50.     55.     73.     24.     64.\n",
      "  45.     38.     25.     18.     68.     14.     71.     30.     51.\n",
      "  57.999  27.     56.     70.     52.     20.     36.   ]\n",
      "\n",
      "risk_mortality\n",
      "[5.0000e-02 7.2000e-02 1.3100e-01 2.3240e+00 6.3000e-02 1.9400e-01\n",
      " 1.5700e-01 2.7070e+00 9.0700e-01 8.9000e-02 5.5700e-01 1.2600e-01\n",
      " 9.1670e+00 5.0000e-01 3.4830e+00 2.3774e+01 8.3100e-01 6.2000e-02\n",
      " 1.9800e-01 1.0600e-01 4.8600e-01 5.7000e-02 9.9000e-02 1.1340e+00\n",
      " 1.3973e+01 1.1600e-01 1.2800e-01 7.3000e-02 6.6000e-02 1.0900e-01\n",
      " 5.1690e+00 1.5800e-01 1.6400e+00 4.8100e-01 3.0000e-01 1.7300e-01\n",
      " 7.4800e-01 5.5000e-02 4.9600e-01 1.1400e-01 7.5000e-02 1.0520e+00\n",
      " 1.2240e+00 5.6000e-02 1.2700e-01 1.0100e-01 1.1100e-01 3.7200e-01\n",
      " 6.7000e-02 8.6900e-01 2.6150e+00 2.4000e-01 9.2000e-02 8.1000e-02\n",
      " 9.4000e-02 2.2730e+00 2.1400e-01 2.0800e-01 3.2900e-01 9.6000e-02\n",
      " 2.1800e-01 4.7100e-01 1.3000e-01 7.4000e-02 4.2800e-01 5.5600e-01\n",
      " 2.3890e+00 2.9300e-01 3.6600e-01 6.8100e-01 1.3900e-01 1.1650e+00\n",
      " 5.4000e-02 6.5500e-01 1.9420e+00 4.4700e-01 1.7850e+00 9.3400e-01\n",
      " 2.7660e+00 4.5400e-01 8.4000e-02 2.2340e+00 1.0810e+00 5.8000e-02\n",
      " 6.3700e-01 5.4400e+00 1.0400e-01 8.8200e-01 7.2900e-01 5.3000e-02\n",
      " 1.0380e+00 6.3900e-01 5.5900e-01 4.0200e-01 1.4960e+00 1.2180e+00\n",
      " 4.7400e-01 3.6660e+00 6.0320e+00 5.8200e-01 1.2300e-01 7.7000e-02\n",
      " 5.8800e-01 3.2590e+00 3.5500e-01 2.8600e-01 1.1206e+01 9.1000e-02\n",
      " 4.5900e-01 7.0000e-02 9.6400e-01 5.4700e-01 2.2500e+00 1.2000e+00\n",
      " 4.0800e-01 1.5600e-01 5.2800e+00 2.0400e-01 1.8500e-01 6.0540e+00\n",
      " 2.6700e-01 1.3440e+00 2.8000e-01 1.4200e-01 4.3400e-01 7.5900e-01\n",
      " 2.2600e-01 1.4500e-01 1.1200e-01 1.9500e-01 7.6000e-02 3.9210e+00\n",
      " 3.4550e+00 1.2900e-01 6.8000e-02 6.2700e-01 7.1000e-02 1.8174e+01\n",
      " 2.8190e+00 3.5400e-01 5.8120e+00 1.6700e-01 5.4650e+00 5.7800e-01\n",
      " 1.9000e-01 2.1710e+00 5.1900e-01 8.2850e+00 8.4500e-01 1.4240e+00\n",
      " 6.5900e-01 8.7000e-02 2.2440e+00 1.4800e-01 1.3500e+00 4.4110e+00\n",
      " 9.5800e-01 7.1100e-01 5.2600e-01 6.9100e-01 1.3850e+00 6.1500e-01\n",
      " 2.8900e-01 1.4160e+00 1.0920e+00 2.5400e-01 2.8100e-01 2.4600e-01\n",
      " 6.0410e+00 2.6400e-01 1.2220e+00 2.5110e+00 6.1190e+00 1.0160e+00\n",
      " 2.0079e+01 5.1000e-02 4.9900e-01 2.9400e-01 4.9300e-01 3.5000e-01\n",
      " 8.6300e-01 6.9000e-02 6.0000e-02 1.0060e+00 2.3700e-01 2.2900e-01\n",
      " 7.1400e-01 2.2800e-01 1.0260e+00 2.6000e-01 3.3400e-01 1.3410e+00\n",
      " 9.3000e-02 3.0940e+00 8.4400e-01 1.5460e+00 1.0000e-01 2.6300e+00\n",
      " 5.3200e-01 2.7790e+00 8.0400e-01 8.7540e+00 1.8600e-01 3.4460e+00\n",
      " 6.5800e-01 9.6300e-01 4.2300e-01 1.2290e+00 1.3220e+00 2.9420e+00\n",
      " 2.5600e-01 1.0330e+00 1.1120e+00 2.7400e-01 7.6600e-01 1.5650e+00\n",
      " 1.6500e-01 2.0470e+00 6.6810e+00 3.3800e-01 1.3600e-01 1.1940e+00\n",
      " 3.3982e+01 3.1600e-01 2.0260e+00 2.5500e-01 9.8900e+00 8.7700e-01\n",
      " 2.1470e+00 3.0500e-01 1.0580e+00 7.3890e+00 1.0220e+00 3.0100e-01\n",
      " 7.1700e-01 1.1020e+00 1.5100e-01 3.7600e-01 7.5010e+00 1.1900e-01\n",
      " 5.7300e-01 2.2480e+00 8.3200e-01 1.5410e+00 8.6600e-01 1.3500e-01\n",
      " 3.5700e-01 1.0500e-01 5.2260e+00 2.0530e+00 8.1800e-01 9.7000e-01\n",
      " 1.3300e-01 1.0230e+00 3.8130e+00 1.0900e+00 2.1390e+00 3.9940e+00\n",
      " 2.6540e+00 3.6480e+00 1.6560e+00 1.1000e-01 5.4500e-01 5.9000e-02\n",
      " 4.4800e-01 6.1000e-02 2.2132e+01 1.7411e+01 3.7440e+00 2.9880e+00\n",
      " 6.2000e-01 4.5770e+00 1.0868e+01 1.8740e+00 6.4000e-02 3.1400e-01\n",
      " 2.2966e+01 3.4340e+00 6.1200e-01 8.5300e-01 3.1840e+00 3.3380e+00\n",
      " 3.5960e+00 1.8521e+01 4.8220e+00 2.1349e+01 5.5270e+00 2.0050e+00\n",
      " 1.3940e+00 8.5100e-01 8.3300e-01 9.6010e+00 6.2040e+00 1.1368e+01\n",
      " 2.5660e+00 1.2620e+00 9.8130e+00 4.6930e+00 6.1530e+00 1.0714e+01\n",
      " 2.1000e+00 9.0000e-02 8.8000e-02 3.6460e+00 2.0480e+00 1.0590e+00\n",
      " 5.1500e-01 6.2200e-01 1.6770e+00 1.2686e+01 9.8000e-02 2.2700e-01\n",
      " 2.3560e+00 5.1680e+00 2.0710e+00 2.7500e+00 7.8000e-02 1.7197e+01\n",
      " 2.3500e+00 1.4600e+00 1.7200e+00 1.4300e-01 6.8900e-01 1.0700e-01\n",
      " 5.9900e-01 2.9900e-01 3.1900e-01 1.2810e+00 7.9000e-02 1.3600e+00\n",
      " 7.9340e+00 3.2320e+00 1.7350e+00 1.1880e+00 4.5800e-01 3.5300e-01\n",
      " 8.7150e+00 1.2100e-01 1.7500e-01 4.4600e-01 4.0800e+00 1.1680e+00\n",
      " 5.8750e+00 4.4600e+00 1.6400e-01 4.1700e-01 2.3110e+00 1.7400e-01\n",
      " 1.2400e-01 7.4800e+00 1.4400e-01 2.8090e+00 1.1080e+00 9.4500e-01\n",
      " 1.8900e-01 1.2370e+00 1.2960e+00 2.2180e+00 6.5000e-02 2.1300e-01\n",
      " 2.4520e+00 1.2390e+00 3.3300e-01 2.6100e-01 1.8258e+01 2.0669e+01\n",
      " 1.7080e+01 1.4200e+01 1.8550e+00 3.1730e+01 2.0200e-01 1.9200e-01\n",
      " 1.5848e+01 1.0140e+00 3.6306e+01 1.6740e+00 5.5735e+01 9.0560e+00\n",
      " 3.2910e+00 9.7500e+00 2.2284e+01 7.2400e-01 4.2580e+00 1.5790e+00\n",
      " 6.7770e+00 8.3690e+00 1.1580e+00 1.7090e+00 8.1300e-01 4.2400e-01\n",
      " 7.9100e-01 2.6472e+01 4.5594e+01 7.5000e+01 2.7600e-01 1.0800e-01\n",
      " 2.0000e-01 6.4200e-01 3.4110e+00 8.1500e-01 1.4050e+00 1.2090e+01\n",
      " 8.2000e-02 3.5100e+00 1.8140e+00 8.2100e-01 1.7710e+00 1.5610e+00\n",
      " 1.4950e+00 6.9580e+00 1.0750e+00 4.6300e-01 1.8300e-01 4.9280e+00\n",
      " 8.6000e-02 2.0700e+00 6.4080e+00 2.6500e-01 4.7060e+00 7.2800e-01\n",
      " 5.2200e-01 1.7340e+00 5.0300e-01 7.5000e-01 2.1600e+00 3.7950e+00\n",
      " 2.6920e+00 1.0320e+00 6.1400e-01 1.0180e+00 2.6220e+00 4.5420e+00\n",
      " 1.0131e+01 1.6300e-01 4.7180e+00 3.4730e+00 1.6100e-01 5.1830e+00\n",
      " 9.7000e-02 2.5100e-01 1.2180e+01 1.5024e+01 1.1040e+00 1.4880e+00\n",
      " 2.8400e-01 2.7000e-01 3.3100e-01 5.8400e-01 1.6140e+00 1.3560e+00\n",
      " 4.3800e-01 1.8890e+00 2.1530e+00 5.7330e+00 1.2680e+00 4.3520e+00\n",
      " 5.9430e+00 2.7633e+01 1.6030e+00 1.5500e-01 1.7890e+00 4.0600e-01\n",
      " 1.8117e+01 5.2000e-02 3.3920e+00 2.0300e-01 6.8700e-01 2.1870e+00\n",
      " 1.4710e+01 2.2110e+00 7.3900e-01 1.5270e+00 8.6000e-01 1.0850e+00\n",
      " 1.1410e+00 3.2080e+00 4.4300e-01 4.2830e+00 1.4000e-01 2.5000e-01\n",
      " 4.2700e-01 3.4800e-01 3.8900e-01 1.8360e+00 7.8000e-01 7.9300e-01\n",
      " 9.0200e-01 3.5100e-01 2.9050e+00 7.9400e-01 9.7800e-01 4.1610e+00\n",
      " 5.1200e-01 4.2500e-01 3.8400e-01 2.4330e+00 2.0430e+00 5.7810e+00\n",
      " 4.7550e+00 6.9600e-01 7.4200e-01 7.7040e+00 1.4920e+00 3.4500e-01\n",
      " 1.9300e-01 3.6068e+01 4.6400e-01 1.0660e+00 4.6900e-01 1.0510e+00\n",
      " 2.8800e+00 9.6900e-01 2.1900e-01 3.7500e-01 7.2200e-01 4.6620e+00\n",
      " 3.9850e+00 3.7000e-01 8.9300e-01 1.9700e-01 2.8350e+00 1.7200e-01\n",
      " 4.4960e+00 1.6800e-01 2.7080e+00 1.5940e+00 5.6100e-01 8.3000e-01\n",
      " 2.4100e-01 1.0000e+00 1.8700e-01 1.0780e+00 9.2800e-01 1.4520e+00\n",
      " 1.7990e+00 2.4440e+00 1.7100e-01 1.1700e-01 6.4000e+00 1.0490e+00\n",
      " 6.8500e-01 1.6670e+00 2.1310e+00 1.5660e+00 4.5600e-01 1.0290e+00\n",
      " 2.0410e+00 1.5810e+00 3.0860e+00 3.5020e+00 1.1500e-01 2.1000e-01\n",
      " 6.9800e-01 2.6850e+00 4.9500e-01 1.9490e+00 1.0200e-01 1.4800e+00\n",
      " 7.7600e-01 2.6660e+00 3.8500e-01 1.4490e+00 1.2200e-01 6.0860e+00\n",
      " 3.4840e+00 4.0470e+00 2.9750e+00 1.2450e+00 4.7500e-01 2.8060e+00\n",
      " 1.1930e+00 4.2560e+00 3.4100e-01 3.9290e+00 1.6430e+00 9.4100e-01\n",
      " 3.2600e-01 4.2100e-01 1.3930e+00 7.8340e+00 3.8700e-01 5.2800e-01\n",
      " 5.2480e+00 1.1590e+00 4.7290e+00 7.1680e+00 3.5490e+00 8.7650e+00\n",
      " 2.6770e+00 3.2160e+00 1.4830e+00 5.5850e+00 3.0530e+00 5.7400e-01\n",
      " 2.5530e+00 5.5570e+00 1.8840e+00 8.5980e+00 2.5700e-01 8.3000e-02\n",
      " 4.5200e-01 5.6800e-01 1.7700e-01 7.8200e-01 2.0300e+00 6.2100e-01\n",
      " 5.2190e+00 2.2370e+00 6.0040e+00 7.1820e+00 9.2000e-01 5.2450e+00\n",
      " 1.6700e+00 2.3990e+00 2.0900e-01 6.1000e-01 1.6170e+00 2.8010e+00\n",
      " 6.7900e-01 3.3500e-01 4.9520e+00 1.9540e+00 2.1100e-01 2.5020e+00\n",
      " 2.7900e+00 2.2620e+00 6.5300e-01 8.0600e-01 6.3800e+00 2.4970e+00\n",
      " 1.5880e+00 3.4240e+00 1.5400e-01 7.1300e-01 3.0400e-01 3.3570e+00\n",
      " 8.0000e-02 1.4730e+00 1.4280e+00 9.9800e-01 1.1170e+00 1.9150e+00\n",
      " 9.6100e-01 8.2900e-01 1.5170e+00 3.0970e+00 4.0300e-01 1.7900e-01\n",
      " 4.0970e+00 3.4760e+00 1.4410e+00 1.0434e+01 3.9800e-01 2.2910e+00\n",
      " 2.0735e+01 1.4570e+00 2.0590e+00 9.9690e+00 3.5860e+00 2.9330e+00\n",
      " 1.4610e+00 2.1430e+00 1.9100e+00 4.0720e+00 1.4890e+00 3.9920e+00\n",
      " 5.9400e-01 6.4710e+00 1.1866e+01 8.7000e-01 1.7490e+00 1.2500e+00\n",
      " 3.4810e+00 4.8820e+00 2.1500e+00 1.9620e+00 4.1470e+00 4.4570e+00\n",
      " 1.3730e+00 3.3190e+00 5.6150e+00 5.5200e-01 3.4960e+00 1.9410e+00\n",
      " 4.5550e+00 8.9900e-01 1.1190e+00 5.8600e-01 3.3510e+00 5.7200e-01\n",
      " 1.1420e+00 1.6090e+00 1.8040e+00 9.8200e-01 5.8640e+00 1.1630e+00\n",
      " 8.8600e-01 9.1900e-01 3.0300e-01 3.0900e-01 1.9000e+00 3.1100e-01\n",
      " 9.5620e+00 7.8290e+00 1.6880e+00 1.0150e+00 2.2420e+00 6.4300e-01\n",
      " 3.3090e+00 2.4700e-01 2.5590e+00 3.4540e+00 2.5200e-01 1.1950e+00\n",
      " 2.5130e+00 1.8400e-01 7.8800e-01 1.1140e+00 2.3230e+00 2.3600e-01\n",
      " 1.3870e+00 1.3800e+00 3.7100e-01 4.2660e+00 1.7560e+00 9.8100e-01\n",
      " 1.2830e+00 4.2980e+00 3.7700e-01 4.9350e+00 9.7300e-01 8.5800e-01\n",
      " 1.9396e+01 1.7800e-01 5.4960e+00 9.0900e-01 1.4070e+00 1.8000e-01\n",
      " 1.2770e+00 4.6780e+00 5.1700e-01 2.9700e-01 2.5040e+00 2.0340e+00\n",
      " 2.1620e+00 1.4450e+00 9.7600e-01 2.1140e+00 2.9800e-01 1.1700e+00\n",
      " 1.6630e+00 7.6200e-01 2.1700e-01 2.0490e+00 4.5400e+00 2.6780e+00\n",
      " 3.4660e+00 3.4900e-01 2.1200e+00 1.9900e-01 8.4300e-01 5.9600e-01\n",
      " 2.6800e-01 2.1670e+00 4.3100e-01 1.5500e+00 2.4870e+00 6.1650e+00\n",
      " 6.5000e-01 2.0330e+00 3.0600e-01 1.3540e+00 5.8500e+00 8.7200e-01\n",
      " 7.6300e-01 9.4300e-01 1.9600e-01 6.5070e+00 1.0450e+00 2.9570e+00\n",
      " 2.5954e+01 1.0620e+00 1.8470e+00 9.3210e+00 7.3200e-01 5.3300e-01\n",
      " 5.0700e-01 1.5850e+00 1.0550e+00 2.0900e+00 1.3520e+00 2.6360e+00\n",
      " 1.6900e-01 8.4200e-01 5.7530e+00 5.0900e-01 1.5260e+00 1.0760e+00\n",
      " 9.2500e+00 1.1810e+00 1.0257e+01 1.0070e+01 2.6280e+00 1.3660e+00\n",
      " 1.8260e+00 1.0630e+00 2.2360e+00 1.4900e-01 1.0378e+01 1.3380e+00\n",
      " 3.4470e+00 9.0330e+00 7.9110e+00 2.3480e+00 7.2000e-01 1.7290e+00\n",
      " 5.4440e+00 4.4200e-01 7.1520e+00 1.9350e+00 3.7290e+00 4.3300e-01\n",
      " 1.2130e+00 6.3000e-01 5.9130e+00 1.1300e-01 6.5370e+00 3.1110e+00\n",
      " 8.5570e+00 1.9825e+01 8.2470e+00 6.8670e+00 6.4400e-01 2.6250e+00\n",
      " 5.3000e-01 3.3000e-01 2.8410e+00 1.5020e+00 7.9760e+00 1.2740e+00\n",
      " 1.0790e+00 2.5800e-01 1.4326e+01 3.9740e+00 1.8270e+00 1.1800e-01\n",
      " 7.2100e+00 1.2720e+00 6.2300e-01 3.2820e+00 4.1560e+00 1.1431e+01\n",
      " 4.6430e+00 2.5450e+00 9.1300e-01 4.8700e-01 2.8698e+01 4.2750e+00\n",
      " 1.3800e-01 2.6880e+00 7.2500e-01 6.4670e+00 4.8400e-01 1.2100e+00\n",
      " 1.1050e+00 1.6000e-01 2.7710e+01 1.8200e-01 1.6600e-01 2.4400e-01\n",
      " 2.7900e-01 1.7960e+00 3.6200e-01 2.4920e+00 4.3853e+01 1.4390e+00\n",
      " 1.7620e+00 2.7160e+00 8.5000e-02 1.0183e+01 2.0600e-01 2.4240e+00\n",
      " 1.6930e+00 2.0700e-01 1.5030e+00 2.1540e+00 4.5210e+00 1.1230e+00\n",
      " 1.5050e+00]\n",
      "\n"
     ]
    }
   ],
   "source": [
    "# check every column for their values, dtypes and null value presentatives\n",
    "for col in raw_data:\n",
    "    print(col)\n",
    "    print(raw_data[col].unique())\n",
    "    print(\"\")"
   ]
  },
  {
   "cell_type": "code",
   "execution_count": 4,
   "id": "46de42d8",
   "metadata": {},
   "outputs": [],
   "source": [
    "# change null values into \"nan\"\n",
    "df = pd.read_csv('D1.csv', na_values='nan')"
   ]
  },
  {
   "cell_type": "code",
   "execution_count": 5,
   "id": "3772053f",
   "metadata": {},
   "outputs": [],
   "source": [
    "# correct data types\n",
    "\n",
    "df['survey_date'] = pd.to_datetime(df['survey_date'])\n",
    "df['region'] = df['region'].astype('string')\n",
    "df['country'] = df['country'].astype('string')\n",
    "df['ip_latitude'] = df['ip_latitude'].astype('float')\n",
    "df['ip_longitude'] = df['ip_longitude'].astype('float')\n",
    "df['gender'] = df['gender'].astype('string')\n",
    "df['age'] = df['age'].astype('string')\n",
    "df['blood_type'] = df['blood_type'].astype('string')\n",
    "df['insurance'] = df['insurance'].astype('string')\n",
    "df['income'] = df['income'].astype('string')\n",
    "df['race'] = df['race'].astype('string')\n",
    "df['immigrant'] = df['immigrant'].astype('string')\n",
    "df['smoking'] = df['smoking'].astype('string')\n",
    "df['alcohol'] = df['alcohol'].replace('',float('nan'))\n",
    "df['alcohol'] = df['alcohol'].astype('Int64')\n",
    "df['cannabis'] = df['cannabis'].replace('',float('nan'))\n",
    "df['cannabis'] = df['cannabis'].astype('Int64')\n",
    "df['amphetamines'] = df['amphetamines'].replace('',float('nan'))\n",
    "df['amphetamines'] = df['amphetamines'].astype('Int64')\n",
    "df['cocaine'] = df['cocaine'].replace('',float('nan'))\n",
    "df['cocaine'] = df['cocaine'].astype('Int64')\n",
    "df['contacts_count'] = df['contacts_count'].replace('',float('nan'))\n",
    "df['contacts_count'] = df['contacts_count'].astype('Int64')\n",
    "df['house_count'] = df['house_count'].replace('',float('nan'))\n",
    "df['house_count'] = df['house_count'].astype('Int64')\n",
    "df['public_transport_count'] = df['public_transport_count'].replace('',float('nan'))\n",
    "df['public_transport_count'] = df['public_transport_count'].astype('Int64')\n",
    "df['working'] = df['working'].astype('string')\n",
    "df['worried'] = df['worried'].replace('',float('nan'))\n",
    "df['worried'] = df['worried'].astype('Int64')\n",
    "df['covid19_positive'] = df['covid19_positive'].astype(bool)\n",
    "df['covid19_symptoms'] = df['covid19_symptoms'].astype(bool)\n",
    "df['covid19_contact'] = df['covid19_contact'].astype(bool)\n",
    "df['asthma'] = df['asthma'].astype(bool)\n",
    "df['kidney_disease'] = df['kidney_disease'].astype(bool)\n",
    "df['liver_disease'] = df['liver_disease'].astype(bool)\n",
    "df['compromised_immune'] = df['compromised_immune'].astype(bool)\n",
    "df['heart_disease'] = df['heart_disease'].astype(bool)\n",
    "df['lung_disease'] = df['lung_disease'].astype(bool)\n",
    "df['diabetes'] = df['diabetes'].astype(bool)\n",
    "df['hiv_positive'] = df['hiv_positive'].astype(bool)\n",
    "df['hypertension'] = df['hypertension'].astype(bool)\n",
    "df['other_chronic'] = df['other_chronic'].astype(bool)\n",
    "df['nursing_home'] = df['nursing_home'].astype(bool)\n",
    "df['health_worker'] = df['health_worker'].astype(bool)"
   ]
  },
  {
   "cell_type": "code",
   "execution_count": 6,
   "id": "fcbce494",
   "metadata": {},
   "outputs": [
    {
     "name": "stdout",
     "output_type": "stream",
     "text": [
      "<class 'pandas.core.frame.DataFrame'>\n",
      "RangeIndex: 6110 entries, 0 to 6109\n",
      "Data columns (total 43 columns):\n",
      " #   Column                  Non-Null Count  Dtype         \n",
      "---  ------                  --------------  -----         \n",
      " 0   survey_date             6110 non-null   datetime64[ns]\n",
      " 1   region                  1659 non-null   string        \n",
      " 2   country                 6107 non-null   string        \n",
      " 3   ip_latitude             6110 non-null   float64       \n",
      " 4   ip_longitude            6110 non-null   float64       \n",
      " 5   ip_accuracy             6110 non-null   int64         \n",
      " 6   gender                  6110 non-null   string        \n",
      " 7   age                     6110 non-null   string        \n",
      " 8   height                  6110 non-null   int64         \n",
      " 9   weight                  6110 non-null   int64         \n",
      " 10  bmi                     6110 non-null   float64       \n",
      " 11  blood_type              5997 non-null   string        \n",
      " 12  insurance               4758 non-null   string        \n",
      " 13  income                  4916 non-null   string        \n",
      " 14  race                    4942 non-null   string        \n",
      " 15  immigrant               4942 non-null   string        \n",
      " 16  smoking                 6071 non-null   string        \n",
      " 17  alcohol                 6069 non-null   Int64         \n",
      " 18  cannabis                1583 non-null   Int64         \n",
      " 19  amphetamines            1503 non-null   Int64         \n",
      " 20  cocaine                 1491 non-null   Int64         \n",
      " 21  contacts_count          6064 non-null   Int64         \n",
      " 22  house_count             5872 non-null   Int64         \n",
      " 23  public_transport_count  4842 non-null   Int64         \n",
      " 24  working                 6064 non-null   string        \n",
      " 25  worried                 4778 non-null   Int64         \n",
      " 26  covid19_positive        6110 non-null   bool          \n",
      " 27  covid19_symptoms        6110 non-null   bool          \n",
      " 28  covid19_contact         6110 non-null   bool          \n",
      " 29  asthma                  6110 non-null   bool          \n",
      " 30  kidney_disease          6110 non-null   bool          \n",
      " 31  liver_disease           6110 non-null   bool          \n",
      " 32  compromised_immune      6110 non-null   bool          \n",
      " 33  heart_disease           6110 non-null   bool          \n",
      " 34  lung_disease            6110 non-null   bool          \n",
      " 35  diabetes                6110 non-null   bool          \n",
      " 36  hiv_positive            6110 non-null   bool          \n",
      " 37  hypertension            6110 non-null   bool          \n",
      " 38  other_chronic           6110 non-null   bool          \n",
      " 39  nursing_home            6110 non-null   bool          \n",
      " 40  health_worker           6110 non-null   bool          \n",
      " 41  risk_infection          6110 non-null   float64       \n",
      " 42  risk_mortality          6110 non-null   float64       \n",
      "dtypes: Int64(8), bool(15), datetime64[ns](1), float64(5), int64(3), string(11)\n",
      "memory usage: 1.4 MB\n"
     ]
    }
   ],
   "source": [
    "df.info()"
   ]
  },
  {
   "cell_type": "markdown",
   "id": "f80052e7",
   "metadata": {},
   "source": [
    "### Task 2"
   ]
  },
  {
   "cell_type": "markdown",
   "id": "640647b3",
   "metadata": {},
   "source": [
    "2.1 Identify and report the skewness present in the variables."
   ]
  },
  {
   "cell_type": "code",
   "execution_count": 7,
   "id": "e9104548",
   "metadata": {},
   "outputs": [],
   "source": [
    "import numpy as np\n",
    "\n",
    "# select numerical columns for skewness\n",
    "df_numeric = df.select_dtypes(include='number')"
   ]
  },
  {
   "cell_type": "code",
   "execution_count": 8,
   "id": "1b71294f",
   "metadata": {},
   "outputs": [
    {
     "data": {
      "text/plain": [
       "ip_latitude               -2.216036\n",
       "height                    -0.396537\n",
       "worried                   -0.351016\n",
       "risk_infection             0.041794\n",
       "contacts_count             0.956766\n",
       "weight                     1.137239\n",
       "ip_longitude               1.712252\n",
       "house_count                1.782021\n",
       "alcohol                    1.854553\n",
       "bmi                        1.968153\n",
       "cannabis                   2.117621\n",
       "ip_accuracy                3.130029\n",
       "amphetamines               4.888433\n",
       "public_transport_count     5.643904\n",
       "cocaine                    6.677918\n",
       "risk_mortality            13.881012\n",
       "dtype: float64"
      ]
     },
     "execution_count": 8,
     "metadata": {},
     "output_type": "execute_result"
    }
   ],
   "source": [
    "df_numeric.skew(axis=0, skipna=True).sort_values(ascending=True)"
   ]
  },
  {
   "cell_type": "markdown",
   "id": "42e0d7bd",
   "metadata": {},
   "source": [
    "2.2 There may be inconsistencies or errors in the data. List the errors identified and detail how you have identified them."
   ]
  },
  {
   "cell_type": "code",
   "execution_count": 9,
   "id": "fed43036",
   "metadata": {},
   "outputs": [
    {
     "data": {
      "text/plain": [
       "survey_date               2020-12-15 00:00:00\n",
       "region                                     SA\n",
       "country                                    ZA\n",
       "ip_latitude                            64.682\n",
       "ip_longitude                         174.7758\n",
       "ip_accuracy                              1000\n",
       "gender                                  other\n",
       "age                                    90_100\n",
       "height                                    238\n",
       "weight                                    180\n",
       "bmi                                     125.0\n",
       "blood_type                            unknown\n",
       "insurance                                 yes\n",
       "income                                    med\n",
       "race                                    white\n",
       "immigrant                              native\n",
       "smoking                             yesmedium\n",
       "alcohol                                    14\n",
       "cannabis                                   28\n",
       "amphetamines                               28\n",
       "cocaine                                    28\n",
       "contacts_count                             21\n",
       "house_count                                11\n",
       "public_transport_count                     15\n",
       "working                   travel non critical\n",
       "worried                                     5\n",
       "covid19_positive                         True\n",
       "covid19_symptoms                         True\n",
       "covid19_contact                          True\n",
       "asthma                                   True\n",
       "kidney_disease                           True\n",
       "liver_disease                            True\n",
       "compromised_immune                       True\n",
       "heart_disease                            True\n",
       "lung_disease                             True\n",
       "diabetes                                 True\n",
       "hiv_positive                             True\n",
       "hypertension                             True\n",
       "other_chronic                            True\n",
       "nursing_home                             True\n",
       "health_worker                            True\n",
       "risk_infection                          100.0\n",
       "risk_mortality                           75.0\n",
       "dtype: object"
      ]
     },
     "execution_count": 9,
     "metadata": {},
     "output_type": "execute_result"
    }
   ],
   "source": [
    "df.max()"
   ]
  },
  {
   "cell_type": "markdown",
   "id": "befa593d",
   "metadata": {},
   "source": [
    "2.3a What is the average BMI of a patient from the US who is COVID-19 positive?"
   ]
  },
  {
   "cell_type": "code",
   "execution_count": 10,
   "id": "0c0b4ed2",
   "metadata": {},
   "outputs": [
    {
     "data": {
      "text/plain": [
       "country  covid19_positive\n",
       "US       True                30.803993\n",
       "Name: bmi, dtype: float64"
      ]
     },
     "execution_count": 10,
     "metadata": {},
     "output_type": "execute_result"
    }
   ],
   "source": [
    "df[(df.country == 'US') & (df.covid19_positive == 1)].groupby([\"country\", \"covid19_positive\"])[\"bmi\"].mean()"
   ]
  },
  {
   "cell_type": "markdown",
   "id": "6354b3ad",
   "metadata": {},
   "source": [
    "2.3b Which country has the highest (average) risk of mortality?"
   ]
  },
  {
   "cell_type": "code",
   "execution_count": 11,
   "id": "adfdef7a",
   "metadata": {},
   "outputs": [
    {
     "data": {
      "text/plain": [
       "country\n",
       "IT    8.924731\n",
       "AD    3.994000\n",
       "PL    3.769111\n",
       "PT    3.603583\n",
       "PY    3.483000\n",
       "        ...   \n",
       "QA    0.064000\n",
       "BH    0.062500\n",
       "FI    0.056333\n",
       "KE    0.050000\n",
       "JE    0.050000\n",
       "Name: risk_mortality, Length: 95, dtype: float64"
      ]
     },
     "execution_count": 11,
     "metadata": {},
     "output_type": "execute_result"
    }
   ],
   "source": [
    "df.groupby([\"country\"])[\"risk_mortality\"].mean().sort_values(ascending = False)"
   ]
  },
  {
   "cell_type": "markdown",
   "id": "e41beea1",
   "metadata": {},
   "source": [
    "2.3c How many countries have reported at least 10 positive cases?"
   ]
  },
  {
   "cell_type": "code",
   "execution_count": 12,
   "id": "c1d9f3e7",
   "metadata": {},
   "outputs": [
    {
     "data": {
      "text/plain": [
       "17"
      ]
     },
     "execution_count": 12,
     "metadata": {},
     "output_type": "execute_result"
    }
   ],
   "source": [
    "df.groupby('country')['covid19_positive'].sum()[df.groupby('country')['covid19_positive'].sum() >= 10].count()"
   ]
  },
  {
   "cell_type": "markdown",
   "id": "d9a03fa1",
   "metadata": {},
   "source": [
    "2.3d Which are the top-five countries according to the number of positive cases?"
   ]
  },
  {
   "cell_type": "code",
   "execution_count": 13,
   "id": "e41e43ad",
   "metadata": {},
   "outputs": [
    {
     "data": {
      "text/plain": [
       "country\n",
       "US    1753\n",
       "BR     169\n",
       "GB     158\n",
       "CA      68\n",
       "MX      40\n",
       "Name: covid19_positive, dtype: int64"
      ]
     },
     "execution_count": 13,
     "metadata": {},
     "output_type": "execute_result"
    }
   ],
   "source": [
    "df.groupby('country')['covid19_positive'].sum().sort_values(ascending=False).head(5)"
   ]
  },
  {
   "cell_type": "markdown",
   "id": "634f80fc",
   "metadata": {},
   "source": [
    "### Task 3"
   ]
  },
  {
   "cell_type": "markdown",
   "id": "ea10efc2",
   "metadata": {},
   "source": [
    "3.1 Understand the distribution of variables and identify data quality problems."
   ]
  },
  {
   "cell_type": "code",
   "execution_count": 14,
   "id": "1fd3f156",
   "metadata": {},
   "outputs": [
    {
     "data": {
      "text/html": [
       "<div>\n",
       "<style scoped>\n",
       "    .dataframe tbody tr th:only-of-type {\n",
       "        vertical-align: middle;\n",
       "    }\n",
       "\n",
       "    .dataframe tbody tr th {\n",
       "        vertical-align: top;\n",
       "    }\n",
       "\n",
       "    .dataframe thead th {\n",
       "        text-align: right;\n",
       "    }\n",
       "</style>\n",
       "<table border=\"1\" class=\"dataframe\">\n",
       "  <thead>\n",
       "    <tr style=\"text-align: right;\">\n",
       "      <th></th>\n",
       "      <th>ip_latitude</th>\n",
       "      <th>ip_longitude</th>\n",
       "      <th>ip_accuracy</th>\n",
       "      <th>height</th>\n",
       "      <th>weight</th>\n",
       "      <th>bmi</th>\n",
       "      <th>alcohol</th>\n",
       "      <th>cannabis</th>\n",
       "      <th>amphetamines</th>\n",
       "      <th>cocaine</th>\n",
       "      <th>contacts_count</th>\n",
       "      <th>house_count</th>\n",
       "      <th>public_transport_count</th>\n",
       "      <th>worried</th>\n",
       "      <th>risk_infection</th>\n",
       "      <th>risk_mortality</th>\n",
       "    </tr>\n",
       "  </thead>\n",
       "  <tbody>\n",
       "    <tr>\n",
       "      <th>0</th>\n",
       "      <td>37.8157</td>\n",
       "      <td>-77.0806</td>\n",
       "      <td>5.0</td>\n",
       "      <td>178.0</td>\n",
       "      <td>74.0</td>\n",
       "      <td>27.7</td>\n",
       "      <td>-1</td>\n",
       "      <td>-1</td>\n",
       "      <td>-1</td>\n",
       "      <td>-1</td>\n",
       "      <td>1</td>\n",
       "      <td>2</td>\n",
       "      <td>0</td>\n",
       "      <td>4</td>\n",
       "      <td>100.0</td>\n",
       "      <td>0.05</td>\n",
       "    </tr>\n",
       "    <tr>\n",
       "      <th>1</th>\n",
       "      <td>41.9737</td>\n",
       "      <td>NaN</td>\n",
       "      <td>NaN</td>\n",
       "      <td>NaN</td>\n",
       "      <td>NaN</td>\n",
       "      <td>NaN</td>\n",
       "      <td>&lt;NA&gt;</td>\n",
       "      <td>&lt;NA&gt;</td>\n",
       "      <td>&lt;NA&gt;</td>\n",
       "      <td>&lt;NA&gt;</td>\n",
       "      <td>&lt;NA&gt;</td>\n",
       "      <td>&lt;NA&gt;</td>\n",
       "      <td>&lt;NA&gt;</td>\n",
       "      <td>&lt;NA&gt;</td>\n",
       "      <td>NaN</td>\n",
       "      <td>NaN</td>\n",
       "    </tr>\n",
       "  </tbody>\n",
       "</table>\n",
       "</div>"
      ],
      "text/plain": [
       "   ip_latitude  ip_longitude  ip_accuracy  height  weight   bmi  alcohol  \\\n",
       "0      37.8157      -77.0806          5.0   178.0    74.0  27.7       -1   \n",
       "1      41.9737           NaN          NaN     NaN     NaN   NaN     <NA>   \n",
       "\n",
       "   cannabis  amphetamines  cocaine  contacts_count  house_count  \\\n",
       "0        -1            -1       -1               1            2   \n",
       "1      <NA>          <NA>     <NA>            <NA>         <NA>   \n",
       "\n",
       "   public_transport_count  worried  risk_infection  risk_mortality  \n",
       "0                       0        4           100.0            0.05  \n",
       "1                    <NA>     <NA>             NaN             NaN  "
      ]
     },
     "execution_count": 14,
     "metadata": {},
     "output_type": "execute_result"
    }
   ],
   "source": [
    "df_numeric.mode()"
   ]
  },
  {
   "cell_type": "code",
   "execution_count": 15,
   "id": "d354bb12",
   "metadata": {},
   "outputs": [
    {
     "data": {
      "text/html": [
       "<div>\n",
       "<style scoped>\n",
       "    .dataframe tbody tr th:only-of-type {\n",
       "        vertical-align: middle;\n",
       "    }\n",
       "\n",
       "    .dataframe tbody tr th {\n",
       "        vertical-align: top;\n",
       "    }\n",
       "\n",
       "    .dataframe thead th {\n",
       "        text-align: right;\n",
       "    }\n",
       "</style>\n",
       "<table border=\"1\" class=\"dataframe\">\n",
       "  <thead>\n",
       "    <tr style=\"text-align: right;\">\n",
       "      <th></th>\n",
       "      <th>ip_latitude</th>\n",
       "      <th>ip_longitude</th>\n",
       "      <th>ip_accuracy</th>\n",
       "      <th>height</th>\n",
       "      <th>weight</th>\n",
       "      <th>bmi</th>\n",
       "      <th>alcohol</th>\n",
       "      <th>cannabis</th>\n",
       "      <th>amphetamines</th>\n",
       "      <th>cocaine</th>\n",
       "      <th>contacts_count</th>\n",
       "      <th>house_count</th>\n",
       "      <th>public_transport_count</th>\n",
       "      <th>worried</th>\n",
       "      <th>risk_infection</th>\n",
       "      <th>risk_mortality</th>\n",
       "    </tr>\n",
       "  </thead>\n",
       "  <tbody>\n",
       "    <tr>\n",
       "      <th>count</th>\n",
       "      <td>6110.000000</td>\n",
       "      <td>6110.000000</td>\n",
       "      <td>6110.000000</td>\n",
       "      <td>6110.000000</td>\n",
       "      <td>6110.000000</td>\n",
       "      <td>6110.000000</td>\n",
       "      <td>6069.000000</td>\n",
       "      <td>1583.000000</td>\n",
       "      <td>1503.000000</td>\n",
       "      <td>1491.000000</td>\n",
       "      <td>6064.000000</td>\n",
       "      <td>5872.000000</td>\n",
       "      <td>4842.000000</td>\n",
       "      <td>4778.000000</td>\n",
       "      <td>6110.000000</td>\n",
       "      <td>6110.000000</td>\n",
       "    </tr>\n",
       "    <tr>\n",
       "      <th>mean</th>\n",
       "      <td>33.275960</td>\n",
       "      <td>-64.937742</td>\n",
       "      <td>96.741899</td>\n",
       "      <td>171.843535</td>\n",
       "      <td>84.479542</td>\n",
       "      <td>28.529984</td>\n",
       "      <td>1.654968</td>\n",
       "      <td>3.258370</td>\n",
       "      <td>0.229541</td>\n",
       "      <td>-0.187123</td>\n",
       "      <td>7.725594</td>\n",
       "      <td>3.057050</td>\n",
       "      <td>0.417803</td>\n",
       "      <td>3.524069</td>\n",
       "      <td>52.039443</td>\n",
       "      <td>0.950602</td>\n",
       "    </tr>\n",
       "    <tr>\n",
       "      <th>std</th>\n",
       "      <td>20.179703</td>\n",
       "      <td>54.227147</td>\n",
       "      <td>221.607822</td>\n",
       "      <td>10.993133</td>\n",
       "      <td>23.590601</td>\n",
       "      <td>7.686983</td>\n",
       "      <td>3.628458</td>\n",
       "      <td>8.658259</td>\n",
       "      <td>4.574273</td>\n",
       "      <td>3.050007</td>\n",
       "      <td>6.613470</td>\n",
       "      <td>1.729142</td>\n",
       "      <td>1.814456</td>\n",
       "      <td>0.790848</td>\n",
       "      <td>44.143691</td>\n",
       "      <td>3.224478</td>\n",
       "    </tr>\n",
       "    <tr>\n",
       "      <th>min</th>\n",
       "      <td>-46.455100</td>\n",
       "      <td>-159.393400</td>\n",
       "      <td>1.000000</td>\n",
       "      <td>110.000000</td>\n",
       "      <td>44.000000</td>\n",
       "      <td>11.900000</td>\n",
       "      <td>-1.000000</td>\n",
       "      <td>-2.000000</td>\n",
       "      <td>-2.000000</td>\n",
       "      <td>-1.000000</td>\n",
       "      <td>0.000000</td>\n",
       "      <td>1.000000</td>\n",
       "      <td>0.000000</td>\n",
       "      <td>1.000000</td>\n",
       "      <td>5.000000</td>\n",
       "      <td>0.050000</td>\n",
       "    </tr>\n",
       "    <tr>\n",
       "      <th>25%</th>\n",
       "      <td>32.948725</td>\n",
       "      <td>-96.890800</td>\n",
       "      <td>5.000000</td>\n",
       "      <td>164.000000</td>\n",
       "      <td>68.000000</td>\n",
       "      <td>23.500000</td>\n",
       "      <td>-1.000000</td>\n",
       "      <td>-1.000000</td>\n",
       "      <td>-1.000000</td>\n",
       "      <td>-1.000000</td>\n",
       "      <td>3.000000</td>\n",
       "      <td>2.000000</td>\n",
       "      <td>0.000000</td>\n",
       "      <td>3.000000</td>\n",
       "      <td>5.000000</td>\n",
       "      <td>0.050000</td>\n",
       "    </tr>\n",
       "    <tr>\n",
       "      <th>50%</th>\n",
       "      <td>39.076650</td>\n",
       "      <td>-80.924950</td>\n",
       "      <td>10.000000</td>\n",
       "      <td>172.000000</td>\n",
       "      <td>80.000000</td>\n",
       "      <td>26.600000</td>\n",
       "      <td>0.000000</td>\n",
       "      <td>-1.000000</td>\n",
       "      <td>-1.000000</td>\n",
       "      <td>-1.000000</td>\n",
       "      <td>5.000000</td>\n",
       "      <td>3.000000</td>\n",
       "      <td>0.000000</td>\n",
       "      <td>4.000000</td>\n",
       "      <td>40.500000</td>\n",
       "      <td>0.194000</td>\n",
       "    </tr>\n",
       "    <tr>\n",
       "      <th>75%</th>\n",
       "      <td>42.487000</td>\n",
       "      <td>-54.930025</td>\n",
       "      <td>50.000000</td>\n",
       "      <td>180.000000</td>\n",
       "      <td>96.000000</td>\n",
       "      <td>31.775000</td>\n",
       "      <td>3.000000</td>\n",
       "      <td>1.000000</td>\n",
       "      <td>-1.000000</td>\n",
       "      <td>-1.000000</td>\n",
       "      <td>10.000000</td>\n",
       "      <td>4.000000</td>\n",
       "      <td>0.000000</td>\n",
       "      <td>4.000000</td>\n",
       "      <td>100.000000</td>\n",
       "      <td>0.761250</td>\n",
       "    </tr>\n",
       "    <tr>\n",
       "      <th>max</th>\n",
       "      <td>64.682000</td>\n",
       "      <td>174.775800</td>\n",
       "      <td>1000.000000</td>\n",
       "      <td>238.000000</td>\n",
       "      <td>180.000000</td>\n",
       "      <td>125.000000</td>\n",
       "      <td>14.000000</td>\n",
       "      <td>28.000000</td>\n",
       "      <td>28.000000</td>\n",
       "      <td>28.000000</td>\n",
       "      <td>21.000000</td>\n",
       "      <td>11.000000</td>\n",
       "      <td>15.000000</td>\n",
       "      <td>5.000000</td>\n",
       "      <td>100.000000</td>\n",
       "      <td>75.000000</td>\n",
       "    </tr>\n",
       "  </tbody>\n",
       "</table>\n",
       "</div>"
      ],
      "text/plain": [
       "       ip_latitude  ip_longitude  ip_accuracy       height       weight  \\\n",
       "count  6110.000000   6110.000000  6110.000000  6110.000000  6110.000000   \n",
       "mean     33.275960    -64.937742    96.741899   171.843535    84.479542   \n",
       "std      20.179703     54.227147   221.607822    10.993133    23.590601   \n",
       "min     -46.455100   -159.393400     1.000000   110.000000    44.000000   \n",
       "25%      32.948725    -96.890800     5.000000   164.000000    68.000000   \n",
       "50%      39.076650    -80.924950    10.000000   172.000000    80.000000   \n",
       "75%      42.487000    -54.930025    50.000000   180.000000    96.000000   \n",
       "max      64.682000    174.775800  1000.000000   238.000000   180.000000   \n",
       "\n",
       "               bmi      alcohol     cannabis  amphetamines      cocaine  \\\n",
       "count  6110.000000  6069.000000  1583.000000   1503.000000  1491.000000   \n",
       "mean     28.529984     1.654968     3.258370      0.229541    -0.187123   \n",
       "std       7.686983     3.628458     8.658259      4.574273     3.050007   \n",
       "min      11.900000    -1.000000    -2.000000     -2.000000    -1.000000   \n",
       "25%      23.500000    -1.000000    -1.000000     -1.000000    -1.000000   \n",
       "50%      26.600000     0.000000    -1.000000     -1.000000    -1.000000   \n",
       "75%      31.775000     3.000000     1.000000     -1.000000    -1.000000   \n",
       "max     125.000000    14.000000    28.000000     28.000000    28.000000   \n",
       "\n",
       "       contacts_count  house_count  public_transport_count      worried  \\\n",
       "count     6064.000000  5872.000000             4842.000000  4778.000000   \n",
       "mean         7.725594     3.057050                0.417803     3.524069   \n",
       "std          6.613470     1.729142                1.814456     0.790848   \n",
       "min          0.000000     1.000000                0.000000     1.000000   \n",
       "25%          3.000000     2.000000                0.000000     3.000000   \n",
       "50%          5.000000     3.000000                0.000000     4.000000   \n",
       "75%         10.000000     4.000000                0.000000     4.000000   \n",
       "max         21.000000    11.000000               15.000000     5.000000   \n",
       "\n",
       "       risk_infection  risk_mortality  \n",
       "count     6110.000000     6110.000000  \n",
       "mean        52.039443        0.950602  \n",
       "std         44.143691        3.224478  \n",
       "min          5.000000        0.050000  \n",
       "25%          5.000000        0.050000  \n",
       "50%         40.500000        0.194000  \n",
       "75%        100.000000        0.761250  \n",
       "max        100.000000       75.000000  "
      ]
     },
     "execution_count": 15,
     "metadata": {},
     "output_type": "execute_result"
    }
   ],
   "source": [
    "df_numeric.describe()"
   ]
  },
  {
   "cell_type": "code",
   "execution_count": 16,
   "id": "f1d7c095",
   "metadata": {},
   "outputs": [
    {
     "data": {
      "text/plain": [
       "<Figure size 432x288 with 0 Axes>"
      ]
     },
     "metadata": {},
     "output_type": "display_data"
    },
    {
     "data": {
      "image/png": "[encoded data removed]",
      "text/plain": [
       "<Figure size 576x360 with 2 Axes>"
      ]
     },
     "metadata": {},
     "output_type": "display_data"
    },
    {
     "data": {
      "text/plain": [
       "<Figure size 576x360 with 0 Axes>"
      ]
     },
     "metadata": {},
     "output_type": "display_data"
    },
    {
     "data": {
      "image/png": "[encoded data removed]",
      "text/plain": [
       "<Figure size 576x360 with 2 Axes>"
      ]
     },
     "metadata": {},
     "output_type": "display_data"
    },
    {
     "data": {
      "text/plain": [
       "<Figure size 576x360 with 0 Axes>"
      ]
     },
     "metadata": {},
     "output_type": "display_data"
    },
    {
     "data": {
      "image/png": "[encoded data removed]",
      "text/plain": [
       "<Figure size 576x360 with 2 Axes>"
      ]
     },
     "metadata": {},
     "output_type": "display_data"
    },
    {
     "data": {
      "text/plain": [
       "<Figure size 576x360 with 0 Axes>"
      ]
     },
     "metadata": {},
     "output_type": "display_data"
    },
    {
     "data": {
      "image/png": "[encoded data removed]",
      "text/plain": [
       "<Figure size 576x360 with 2 Axes>"
      ]
     },
     "metadata": {},
     "output_type": "display_data"
    },
    {
     "data": {
      "text/plain": [
       "<Figure size 576x360 with 0 Axes>"
      ]
     },
     "metadata": {},
     "output_type": "display_data"
    },
    {
     "data": {
      "image/png": "[encoded data removed]",
      "text/plain": [
       "<Figure size 576x360 with 2 Axes>"
      ]
     },
     "metadata": {},
     "output_type": "display_data"
    },
    {
     "data": {
      "text/plain": [
       "<Figure size 576x360 with 0 Axes>"
      ]
     },
     "metadata": {},
     "output_type": "display_data"
    },
    {
     "data": {
      "image/png": "[encoded data removed]",
      "text/plain": [
       "<Figure size 576x360 with 2 Axes>"
      ]
     },
     "metadata": {},
     "output_type": "display_data"
    },
    {
     "data": {
      "text/plain": [
       "<Figure size 576x360 with 0 Axes>"
      ]
     },
     "metadata": {},
     "output_type": "display_data"
    },
    {
     "data": {
      "image/png": "[encoded data removed]",
      "text/plain": [
       "<Figure size 576x360 with 2 Axes>"
      ]
     },
     "metadata": {},
     "output_type": "display_data"
    },
    {
     "data": {
      "text/plain": [
       "<Figure size 576x360 with 0 Axes>"
      ]
     },
     "metadata": {},
     "output_type": "display_data"
    },
    {
     "data": {
      "image/png": "[encoded data removed]",
      "text/plain": [
       "<Figure size 576x360 with 2 Axes>"
      ]
     },
     "metadata": {},
     "output_type": "display_data"
    },
    {
     "data": {
      "text/plain": [
       "<Figure size 576x360 with 0 Axes>"
      ]
     },
     "metadata": {},
     "output_type": "display_data"
    },
    {
     "data": {
      "image/png": "[encoded data removed]",
      "text/plain": [
       "<Figure size 576x360 with 2 Axes>"
      ]
     },
     "metadata": {},
     "output_type": "display_data"
    },
    {
     "data": {
      "text/plain": [
       "<Figure size 576x360 with 0 Axes>"
      ]
     },
     "metadata": {},
     "output_type": "display_data"
    },
    {
     "data": {
      "image/png": "[encoded data removed]",
      "text/plain": [
       "<Figure size 576x360 with 2 Axes>"
      ]
     },
     "metadata": {},
     "output_type": "display_data"
    },
    {
     "data": {
      "text/plain": [
       "<Figure size 576x360 with 0 Axes>"
      ]
     },
     "metadata": {},
     "output_type": "display_data"
    },
    {
     "data": {
      "image/png": "[encoded data removed]",
      "text/plain": [
       "<Figure size 576x360 with 2 Axes>"
      ]
     },
     "metadata": {},
     "output_type": "display_data"
    },
    {
     "data": {
      "text/plain": [
       "<Figure size 576x360 with 0 Axes>"
      ]
     },
     "metadata": {},
     "output_type": "display_data"
    },
    {
     "data": {
      "image/png": "[encoded data removed]",
      "text/plain": [
       "<Figure size 576x360 with 2 Axes>"
      ]
     },
     "metadata": {},
     "output_type": "display_data"
    },
    {
     "data": {
      "text/plain": [
       "<Figure size 576x360 with 0 Axes>"
      ]
     },
     "metadata": {},
     "output_type": "display_data"
    },
    {
     "data": {
      "image/png": "[encoded data removed]",
      "text/plain": [
       "<Figure size 576x360 with 2 Axes>"
      ]
     },
     "metadata": {},
     "output_type": "display_data"
    },
    {
     "data": {
      "text/plain": [
       "<Figure size 576x360 with 0 Axes>"
      ]
     },
     "metadata": {},
     "output_type": "display_data"
    },
    {
     "data": {
      "image/png": "[encoded data removed]",
      "text/plain": [
       "<Figure size 576x360 with 2 Axes>"
      ]
     },
     "metadata": {},
     "output_type": "display_data"
    },
    {
     "data": {
      "text/plain": [
       "<Figure size 576x360 with 0 Axes>"
      ]
     },
     "metadata": {},
     "output_type": "display_data"
    },
    {
     "data": {
      "image/png": "[encoded data removed]",
      "text/plain": [
       "<Figure size 576x360 with 2 Axes>"
      ]
     },
     "metadata": {},
     "output_type": "display_data"
    },
    {
     "data": {
      "text/plain": [
       "<Figure size 576x360 with 0 Axes>"
      ]
     },
     "metadata": {},
     "output_type": "display_data"
    },
    {
     "data": {
      "image/png": "[encoded data removed]",
      "text/plain": [
       "<Figure size 576x360 with 2 Axes>"
      ]
     },
     "metadata": {},
     "output_type": "display_data"
    }
   ],
   "source": [
    "import matplotlib.pyplot as plt\n",
    "import seaborn as sns\n",
    "import warnings\n",
    "warnings.filterwarnings('ignore')\n",
    "\n",
    "\n",
    "# plot every numerical col as distribution plots\n",
    "for i in df_numeric:\n",
    "    plt.figure()\n",
    "    plt.tight_layout()\n",
    "    sns.set(rc={\"figure.figsize\":(8, 5)})\n",
    "    f, (ax_box, ax_hist) = plt.subplots(2, sharex=True)\n",
    "    plt.gca().set(xlabel=i,ylabel='Frequency')\n",
    "    sns.boxplot(df_numeric[i], ax=ax_box , linewidth= 1.0)\n",
    "    sns.histplot(df_numeric[i], ax=ax_hist , bins = 10,kde=True)"
   ]
  },
  {
   "cell_type": "markdown",
   "id": "974898ee",
   "metadata": {},
   "source": [
    "3.2 Determine if there is any relationship between the variables risk_infection and covid19_positive? How would you handle these two variables in the data modeling if a relationship exists?"
   ]
  },
  {
   "cell_type": "code",
   "execution_count": 17,
   "id": "f1083bfc",
   "metadata": {},
   "outputs": [
    {
     "name": "stdout",
     "output_type": "stream",
     "text": [
      "Correlation coefficient: 0.9171206326639674\n"
     ]
    }
   ],
   "source": [
    "col_risk_infection = df['risk_infection']\n",
    "col_covid19_positive = df['covid19_positive']\n",
    "\n",
    "corr_infect_covidpos = col_risk_infection.corr(col_covid19_positive)\n",
    "print(f\"Correlation coefficient: {corr_infect_covidpos}\")"
   ]
  },
  {
   "cell_type": "markdown",
   "id": "006dee47",
   "metadata": {},
   "source": [
    "3.3 Identify the highly correlated variable pairs and elaborate on how to treat these variables in the mining process."
   ]
  },
  {
   "cell_type": "code",
   "execution_count": 18,
   "id": "395177a7",
   "metadata": {},
   "outputs": [
    {
     "name": "stdout",
     "output_type": "stream",
     "text": [
      "weight bmi 0.8619404368817072\n",
      "covid19_positive risk_infection 0.9171206326639606\n"
     ]
    },
    {
     "data": {
      "image/png": "[encoded data removed]",
      "text/plain": [
       "<Figure size 576x360 with 2 Axes>"
      ]
     },
     "metadata": {},
     "output_type": "display_data"
    }
   ],
   "source": [
    "corr_matrix = df.corr()\n",
    "upper = np.triu(corr_matrix)\n",
    "\n",
    "#correlation is high\n",
    "corr_matrix = df.corr()\n",
    "\n",
    "for i in range(len(corr_matrix.columns)):\n",
    "    for j in range(i+1, len(corr_matrix.columns)):\n",
    "        if corr_matrix.iloc[i, j] >= 0.7 and corr_matrix.iloc[i, j] < 1.0:\n",
    "            print(corr_matrix.columns[i], corr_matrix.columns[j], corr_matrix.iloc[i, j])\n",
    "\n",
    "sns.heatmap(corr_matrix, xticklabels=True, yticklabels=True,cmap='coolwarm')\n",
    "plt.show()"
   ]
  },
  {
   "cell_type": "markdown",
   "id": "5d9215e5",
   "metadata": {},
   "source": [
    "### Task 4"
   ]
  },
  {
   "cell_type": "markdown",
   "id": "52678ccb",
   "metadata": {},
   "source": [
    "4.1 Summarize your findings based on data exploration."
   ]
  },
  {
   "cell_type": "code",
   "execution_count": 19,
   "id": "966b0593",
   "metadata": {},
   "outputs": [
    {
     "data": {
      "text/plain": [
       "<AxesSubplot:xlabel='contacts_count', ylabel='Frequency'>"
      ]
     },
     "execution_count": 19,
     "metadata": {},
     "output_type": "execute_result"
    },
    {
     "data": {
      "text/plain": [
       "<Figure size 576x360 with 0 Axes>"
      ]
     },
     "metadata": {},
     "output_type": "display_data"
    },
    {
     "data": {
      "image/png": "[encoded data removed]",
      "text/plain": [
       "<Figure size 576x360 with 2 Axes>"
      ]
     },
     "metadata": {},
     "output_type": "display_data"
    },
    {
     "data": {
      "text/plain": [
       "<Figure size 576x360 with 0 Axes>"
      ]
     },
     "metadata": {},
     "output_type": "display_data"
    },
    {
     "data": {
      "image/png": "[encoded data removed]",
      "text/plain": [
       "<Figure size 576x360 with 2 Axes>"
      ]
     },
     "metadata": {},
     "output_type": "display_data"
    }
   ],
   "source": [
    "# risk_infection plot\n",
    "plt.figure()\n",
    "plt.tight_layout()\n",
    "sns.set(rc={\"figure.figsize\":(8, 5)})\n",
    "f, (ax_box, ax_hist) = plt.subplots(2, sharex=True)\n",
    "plt.gca().set(xlabel='risk_infection',ylabel='Frequency')\n",
    "sns.boxplot(df_numeric['risk_infection'], ax=ax_box , linewidth= 1.0)\n",
    "sns.histplot(df_numeric['risk_infection'], ax=ax_hist , bins = 10,kde=True)\n",
    "\n",
    "# contacts_count plot\n",
    "plt.figure()\n",
    "plt.tight_layout()\n",
    "sns.set(rc={\"figure.figsize\":(8, 5)})\n",
    "f, (ax_box, ax_hist) = plt.subplots(2, sharex=True)\n",
    "plt.gca().set(xlabel='contacts_count',ylabel='Frequency')\n",
    "sns.boxplot(df_numeric['contacts_count'], ax=ax_box , linewidth= 1.0)\n",
    "sns.histplot(df_numeric['contacts_count'], ax=ax_hist , bins = 10,kde=True)"
   ]
  },
  {
   "cell_type": "markdown",
   "id": "5567872d",
   "metadata": {},
   "source": [
    "4.2 Elaborate on the data preparation steps required (e.g., data cleaning and transformation) to address the data quality problems that you encountered during data exploration."
   ]
  },
  {
   "cell_type": "code",
   "execution_count": 20,
   "id": "714a5bd4",
   "metadata": {},
   "outputs": [
    {
     "data": {
      "text/plain": [
       "cocaine                   4619\n",
       "amphetamines              4607\n",
       "cannabis                  4527\n",
       "region                    4451\n",
       "insurance                 1352\n",
       "worried                   1332\n",
       "public_transport_count    1268\n",
       "income                    1194\n",
       "race                      1168\n",
       "immigrant                 1168\n",
       "house_count                238\n",
       "blood_type                 113\n",
       "working                     46\n",
       "contacts_count              46\n",
       "alcohol                     41\n",
       "smoking                     39\n",
       "country                      3\n",
       "kidney_disease               0\n",
       "lung_disease                 0\n",
       "diabetes                     0\n",
       "hiv_positive                 0\n",
       "hypertension                 0\n",
       "other_chronic                0\n",
       "nursing_home                 0\n",
       "health_worker                0\n",
       "risk_infection               0\n",
       "heart_disease                0\n",
       "compromised_immune           0\n",
       "liver_disease                0\n",
       "survey_date                  0\n",
       "asthma                       0\n",
       "covid19_contact              0\n",
       "covid19_symptoms             0\n",
       "covid19_positive             0\n",
       "bmi                          0\n",
       "weight                       0\n",
       "height                       0\n",
       "age                          0\n",
       "gender                       0\n",
       "ip_accuracy                  0\n",
       "ip_longitude                 0\n",
       "ip_latitude                  0\n",
       "risk_mortality               0\n",
       "dtype: int64"
      ]
     },
     "execution_count": 20,
     "metadata": {},
     "output_type": "execute_result"
    }
   ],
   "source": [
    "# Check number of nulls and show in descending order\n",
    "df.isnull().sum().sort_values(ascending = False)"
   ]
  },
  {
   "cell_type": "markdown",
   "id": "d92a474c",
   "metadata": {},
   "source": [
    "4.3 Demonstrate the data preparation by including a screenshot(s) of the Python code and its outputs that show the steps on how you corrected all the identified data quality problems in this dataset."
   ]
  },
  {
   "cell_type": "markdown",
   "id": "21b9daeb",
   "metadata": {},
   "source": [
    "a. Adjust the correct “region” value from “NaN” to “North America”"
   ]
  },
  {
   "cell_type": "code",
   "execution_count": 21,
   "id": "74f15835",
   "metadata": {},
   "outputs": [
    {
     "data": {
      "text/plain": [
       "0       <NA>\n",
       "1       <NA>\n",
       "2       <NA>\n",
       "3       <NA>\n",
       "4       <NA>\n",
       "        ... \n",
       "6105    <NA>\n",
       "6106    <NA>\n",
       "6107    <NA>\n",
       "6108    <NA>\n",
       "6109    <NA>\n",
       "Name: region, Length: 6110, dtype: string"
      ]
     },
     "execution_count": 21,
     "metadata": {},
     "output_type": "execute_result"
    }
   ],
   "source": [
    "df['region']"
   ]
  },
  {
   "cell_type": "code",
   "execution_count": 22,
   "id": "65bc81f6",
   "metadata": {},
   "outputs": [],
   "source": [
    "df['region'] = df['region'].fillna('North America')"
   ]
  },
  {
   "cell_type": "code",
   "execution_count": 23,
   "id": "b9b0939d",
   "metadata": {},
   "outputs": [
    {
     "data": {
      "text/plain": [
       "<StringArray>\n",
       "['North America', 'EU', 'OC', 'SA', 'AS', 'AF']\n",
       "Length: 6, dtype: string"
      ]
     },
     "execution_count": 23,
     "metadata": {},
     "output_type": "execute_result"
    }
   ],
   "source": [
    "df['region'].unique()"
   ]
  },
  {
   "cell_type": "markdown",
   "id": "bab4d572",
   "metadata": {},
   "source": [
    "b. Modifying values of the ‘risk_infection’ column"
   ]
  },
  {
   "cell_type": "code",
   "execution_count": 24,
   "id": "951b7e04",
   "metadata": {},
   "outputs": [
    {
     "name": "stdout",
     "output_type": "stream",
     "text": [
      "risk_infection\n",
      "[5.0, 6.0, 12.0, 13.0, 14.0, 18.0, 19.0, 20.0, 24.0, 25.0, 26.0, 27.0, 30.0, 32.0, 36.0, 37.0, 38.0, 43.0, 45.0, 49.0, 50.0, 51.0, 52.0, 55.0, 56.0, 57.999, 62.0, 64.0, 68.0, 70.0, 71.0, 73.0, 75.0, 100.0]\n"
     ]
    }
   ],
   "source": [
    "print('risk_infection')\n",
    "unique_value = sorted(df['risk_infection'].unique())\n",
    "print(unique_value)"
   ]
  },
  {
   "cell_type": "code",
   "execution_count": 25,
   "id": "6515f8c9",
   "metadata": {},
   "outputs": [],
   "source": [
    "df['risk_infection'] = round(df['risk_infection'])"
   ]
  },
  {
   "cell_type": "code",
   "execution_count": 26,
   "id": "d30e6aa8",
   "metadata": {},
   "outputs": [
    {
     "data": {
      "text/plain": [
       "array([100.,   5.,   6.,  19.,  37.,  13.,  75.,  32.,  49.,  12.,  26.,\n",
       "        43.,  62.,  50.,  55.,  73.,  24.,  64.,  45.,  38.,  25.,  18.,\n",
       "        68.,  14.,  71.,  30.,  51.,  58.,  27.,  56.,  70.,  52.,  20.,\n",
       "        36.])"
      ]
     },
     "execution_count": 26,
     "metadata": {},
     "output_type": "execute_result"
    }
   ],
   "source": [
    "df['risk_infection'].unique()"
   ]
  },
  {
   "cell_type": "markdown",
   "id": "16a98252",
   "metadata": {},
   "source": [
    "c. Removing inconsistent row"
   ]
  },
  {
   "cell_type": "code",
   "execution_count": 27,
   "id": "ed8acbb1",
   "metadata": {},
   "outputs": [
    {
     "data": {
      "text/html": [
       "<div>\n",
       "<style scoped>\n",
       "    .dataframe tbody tr th:only-of-type {\n",
       "        vertical-align: middle;\n",
       "    }\n",
       "\n",
       "    .dataframe tbody tr th {\n",
       "        vertical-align: top;\n",
       "    }\n",
       "\n",
       "    .dataframe thead th {\n",
       "        text-align: right;\n",
       "    }\n",
       "</style>\n",
       "<table border=\"1\" class=\"dataframe\">\n",
       "  <thead>\n",
       "    <tr style=\"text-align: right;\">\n",
       "      <th></th>\n",
       "      <th>ip_latitude</th>\n",
       "      <th>ip_longitude</th>\n",
       "      <th>ip_accuracy</th>\n",
       "      <th>height</th>\n",
       "      <th>weight</th>\n",
       "      <th>bmi</th>\n",
       "      <th>alcohol</th>\n",
       "      <th>cannabis</th>\n",
       "      <th>amphetamines</th>\n",
       "      <th>cocaine</th>\n",
       "      <th>contacts_count</th>\n",
       "      <th>house_count</th>\n",
       "      <th>public_transport_count</th>\n",
       "      <th>worried</th>\n",
       "      <th>risk_infection</th>\n",
       "      <th>risk_mortality</th>\n",
       "    </tr>\n",
       "  </thead>\n",
       "  <tbody>\n",
       "    <tr>\n",
       "      <th>count</th>\n",
       "      <td>6110.000000</td>\n",
       "      <td>6110.000000</td>\n",
       "      <td>6110.000000</td>\n",
       "      <td>6110.000000</td>\n",
       "      <td>6110.000000</td>\n",
       "      <td>6110.000000</td>\n",
       "      <td>6069.000000</td>\n",
       "      <td>1583.000000</td>\n",
       "      <td>1503.000000</td>\n",
       "      <td>1491.000000</td>\n",
       "      <td>6064.000000</td>\n",
       "      <td>5872.000000</td>\n",
       "      <td>4842.000000</td>\n",
       "      <td>4778.000000</td>\n",
       "      <td>6110.000000</td>\n",
       "      <td>6110.000000</td>\n",
       "    </tr>\n",
       "    <tr>\n",
       "      <th>mean</th>\n",
       "      <td>33.275960</td>\n",
       "      <td>-64.937742</td>\n",
       "      <td>96.741899</td>\n",
       "      <td>171.843535</td>\n",
       "      <td>84.479542</td>\n",
       "      <td>28.529984</td>\n",
       "      <td>1.654968</td>\n",
       "      <td>3.258370</td>\n",
       "      <td>0.229541</td>\n",
       "      <td>-0.187123</td>\n",
       "      <td>7.725594</td>\n",
       "      <td>3.057050</td>\n",
       "      <td>0.417803</td>\n",
       "      <td>3.524069</td>\n",
       "      <td>52.039444</td>\n",
       "      <td>0.950602</td>\n",
       "    </tr>\n",
       "    <tr>\n",
       "      <th>std</th>\n",
       "      <td>20.179703</td>\n",
       "      <td>54.227147</td>\n",
       "      <td>221.607822</td>\n",
       "      <td>10.993133</td>\n",
       "      <td>23.590601</td>\n",
       "      <td>7.686983</td>\n",
       "      <td>3.628458</td>\n",
       "      <td>8.658259</td>\n",
       "      <td>4.574273</td>\n",
       "      <td>3.050007</td>\n",
       "      <td>6.613470</td>\n",
       "      <td>1.729142</td>\n",
       "      <td>1.814456</td>\n",
       "      <td>0.790848</td>\n",
       "      <td>44.143691</td>\n",
       "      <td>3.224478</td>\n",
       "    </tr>\n",
       "    <tr>\n",
       "      <th>min</th>\n",
       "      <td>-46.455100</td>\n",
       "      <td>-159.393400</td>\n",
       "      <td>1.000000</td>\n",
       "      <td>110.000000</td>\n",
       "      <td>44.000000</td>\n",
       "      <td>11.900000</td>\n",
       "      <td>-1.000000</td>\n",
       "      <td>-2.000000</td>\n",
       "      <td>-2.000000</td>\n",
       "      <td>-1.000000</td>\n",
       "      <td>0.000000</td>\n",
       "      <td>1.000000</td>\n",
       "      <td>0.000000</td>\n",
       "      <td>1.000000</td>\n",
       "      <td>5.000000</td>\n",
       "      <td>0.050000</td>\n",
       "    </tr>\n",
       "    <tr>\n",
       "      <th>25%</th>\n",
       "      <td>32.948725</td>\n",
       "      <td>-96.890800</td>\n",
       "      <td>5.000000</td>\n",
       "      <td>164.000000</td>\n",
       "      <td>68.000000</td>\n",
       "      <td>23.500000</td>\n",
       "      <td>-1.000000</td>\n",
       "      <td>-1.000000</td>\n",
       "      <td>-1.000000</td>\n",
       "      <td>-1.000000</td>\n",
       "      <td>3.000000</td>\n",
       "      <td>2.000000</td>\n",
       "      <td>0.000000</td>\n",
       "      <td>3.000000</td>\n",
       "      <td>5.000000</td>\n",
       "      <td>0.050000</td>\n",
       "    </tr>\n",
       "    <tr>\n",
       "      <th>50%</th>\n",
       "      <td>39.076650</td>\n",
       "      <td>-80.924950</td>\n",
       "      <td>10.000000</td>\n",
       "      <td>172.000000</td>\n",
       "      <td>80.000000</td>\n",
       "      <td>26.600000</td>\n",
       "      <td>0.000000</td>\n",
       "      <td>-1.000000</td>\n",
       "      <td>-1.000000</td>\n",
       "      <td>-1.000000</td>\n",
       "      <td>5.000000</td>\n",
       "      <td>3.000000</td>\n",
       "      <td>0.000000</td>\n",
       "      <td>4.000000</td>\n",
       "      <td>40.500000</td>\n",
       "      <td>0.194000</td>\n",
       "    </tr>\n",
       "    <tr>\n",
       "      <th>75%</th>\n",
       "      <td>42.487000</td>\n",
       "      <td>-54.930025</td>\n",
       "      <td>50.000000</td>\n",
       "      <td>180.000000</td>\n",
       "      <td>96.000000</td>\n",
       "      <td>31.775000</td>\n",
       "      <td>3.000000</td>\n",
       "      <td>1.000000</td>\n",
       "      <td>-1.000000</td>\n",
       "      <td>-1.000000</td>\n",
       "      <td>10.000000</td>\n",
       "      <td>4.000000</td>\n",
       "      <td>0.000000</td>\n",
       "      <td>4.000000</td>\n",
       "      <td>100.000000</td>\n",
       "      <td>0.761250</td>\n",
       "    </tr>\n",
       "    <tr>\n",
       "      <th>max</th>\n",
       "      <td>64.682000</td>\n",
       "      <td>174.775800</td>\n",
       "      <td>1000.000000</td>\n",
       "      <td>238.000000</td>\n",
       "      <td>180.000000</td>\n",
       "      <td>125.000000</td>\n",
       "      <td>14.000000</td>\n",
       "      <td>28.000000</td>\n",
       "      <td>28.000000</td>\n",
       "      <td>28.000000</td>\n",
       "      <td>21.000000</td>\n",
       "      <td>11.000000</td>\n",
       "      <td>15.000000</td>\n",
       "      <td>5.000000</td>\n",
       "      <td>100.000000</td>\n",
       "      <td>75.000000</td>\n",
       "    </tr>\n",
       "  </tbody>\n",
       "</table>\n",
       "</div>"
      ],
      "text/plain": [
       "       ip_latitude  ip_longitude  ip_accuracy       height       weight  \\\n",
       "count  6110.000000   6110.000000  6110.000000  6110.000000  6110.000000   \n",
       "mean     33.275960    -64.937742    96.741899   171.843535    84.479542   \n",
       "std      20.179703     54.227147   221.607822    10.993133    23.590601   \n",
       "min     -46.455100   -159.393400     1.000000   110.000000    44.000000   \n",
       "25%      32.948725    -96.890800     5.000000   164.000000    68.000000   \n",
       "50%      39.076650    -80.924950    10.000000   172.000000    80.000000   \n",
       "75%      42.487000    -54.930025    50.000000   180.000000    96.000000   \n",
       "max      64.682000    174.775800  1000.000000   238.000000   180.000000   \n",
       "\n",
       "               bmi      alcohol     cannabis  amphetamines      cocaine  \\\n",
       "count  6110.000000  6069.000000  1583.000000   1503.000000  1491.000000   \n",
       "mean     28.529984     1.654968     3.258370      0.229541    -0.187123   \n",
       "std       7.686983     3.628458     8.658259      4.574273     3.050007   \n",
       "min      11.900000    -1.000000    -2.000000     -2.000000    -1.000000   \n",
       "25%      23.500000    -1.000000    -1.000000     -1.000000    -1.000000   \n",
       "50%      26.600000     0.000000    -1.000000     -1.000000    -1.000000   \n",
       "75%      31.775000     3.000000     1.000000     -1.000000    -1.000000   \n",
       "max     125.000000    14.000000    28.000000     28.000000    28.000000   \n",
       "\n",
       "       contacts_count  house_count  public_transport_count      worried  \\\n",
       "count     6064.000000  5872.000000             4842.000000  4778.000000   \n",
       "mean         7.725594     3.057050                0.417803     3.524069   \n",
       "std          6.613470     1.729142                1.814456     0.790848   \n",
       "min          0.000000     1.000000                0.000000     1.000000   \n",
       "25%          3.000000     2.000000                0.000000     3.000000   \n",
       "50%          5.000000     3.000000                0.000000     4.000000   \n",
       "75%         10.000000     4.000000                0.000000     4.000000   \n",
       "max         21.000000    11.000000               15.000000     5.000000   \n",
       "\n",
       "       risk_infection  risk_mortality  \n",
       "count     6110.000000     6110.000000  \n",
       "mean        52.039444        0.950602  \n",
       "std         44.143691        3.224478  \n",
       "min          5.000000        0.050000  \n",
       "25%          5.000000        0.050000  \n",
       "50%         40.500000        0.194000  \n",
       "75%        100.000000        0.761250  \n",
       "max        100.000000       75.000000  "
      ]
     },
     "execution_count": 27,
     "metadata": {},
     "output_type": "execute_result"
    }
   ],
   "source": [
    "df.describe()"
   ]
  },
  {
   "cell_type": "code",
   "execution_count": 28,
   "id": "9833dd72",
   "metadata": {},
   "outputs": [
    {
     "data": {
      "image/png": "[encoded data removed]",
      "text/plain": [
       "<Figure size 576x360 with 1 Axes>"
      ]
     },
     "metadata": {},
     "output_type": "display_data"
    },
    {
     "data": {
      "image/png": "[encoded data removed]",
      "text/plain": [
       "<Figure size 576x360 with 1 Axes>"
      ]
     },
     "metadata": {},
     "output_type": "display_data"
    },
    {
     "data": {
      "image/png": "[encoded data removed]",
      "text/plain": [
       "<Figure size 576x360 with 1 Axes>"
      ]
     },
     "metadata": {},
     "output_type": "display_data"
    }
   ],
   "source": [
    "# identify outliers\n",
    "box_str = ['height', 'weight', 'bmi']\n",
    "\n",
    "for val in box_str:\n",
    "    sns.boxplot(df[val])\n",
    "    plt.show()"
   ]
  },
  {
   "cell_type": "code",
   "execution_count": 29,
   "id": "6efab129",
   "metadata": {},
   "outputs": [
    {
     "data": {
      "text/plain": [
       "[110,\n",
       " 112,\n",
       " 114,\n",
       " 116,\n",
       " 118,\n",
       " 120,\n",
       " 122,\n",
       " 124,\n",
       " 126,\n",
       " 128,\n",
       " 130,\n",
       " 132,\n",
       " 134,\n",
       " 136,\n",
       " 138,\n",
       " 144,\n",
       " 146,\n",
       " 148,\n",
       " 150,\n",
       " 152,\n",
       " 154,\n",
       " 156,\n",
       " 158,\n",
       " 160,\n",
       " 162,\n",
       " 164,\n",
       " 166,\n",
       " 168,\n",
       " 170,\n",
       " 172,\n",
       " 174,\n",
       " 176,\n",
       " 178,\n",
       " 180,\n",
       " 182,\n",
       " 184,\n",
       " 186,\n",
       " 188,\n",
       " 190,\n",
       " 192,\n",
       " 194,\n",
       " 196,\n",
       " 198,\n",
       " 200,\n",
       " 202,\n",
       " 204,\n",
       " 210,\n",
       " 216,\n",
       " 228,\n",
       " 238]"
      ]
     },
     "execution_count": 29,
     "metadata": {},
     "output_type": "execute_result"
    }
   ],
   "source": [
    "unique_height = sorted(df['height'].unique())\n",
    "unique_height"
   ]
  },
  {
   "cell_type": "code",
   "execution_count": 30,
   "id": "46e7c35c",
   "metadata": {},
   "outputs": [
    {
     "data": {
      "text/plain": [
       "[11.9,\n",
       " 14.7,\n",
       " 15.0,\n",
       " 15.3,\n",
       " 15.4,\n",
       " 15.5,\n",
       " 15.7,\n",
       " 15.8,\n",
       " 15.9,\n",
       " 16.0,\n",
       " 16.1,\n",
       " 16.2,\n",
       " 16.3,\n",
       " 16.4,\n",
       " 16.5,\n",
       " 16.6,\n",
       " 16.7,\n",
       " 16.9,\n",
       " 17.0,\n",
       " 17.1,\n",
       " 17.2,\n",
       " 17.3,\n",
       " 17.4,\n",
       " 17.5,\n",
       " 17.6,\n",
       " 17.7,\n",
       " 17.8,\n",
       " 17.9,\n",
       " 18.0,\n",
       " 18.1,\n",
       " 18.2,\n",
       " 18.3,\n",
       " 18.4,\n",
       " 18.5,\n",
       " 18.6,\n",
       " 18.7,\n",
       " 18.8,\n",
       " 18.9,\n",
       " 19.0,\n",
       " 19.1,\n",
       " 19.2,\n",
       " 19.3,\n",
       " 19.4,\n",
       " 19.5,\n",
       " 19.6,\n",
       " 19.7,\n",
       " 19.8,\n",
       " 19.9,\n",
       " 20.0,\n",
       " 20.1,\n",
       " 20.2,\n",
       " 20.3,\n",
       " 20.4,\n",
       " 20.5,\n",
       " 20.6,\n",
       " 20.7,\n",
       " 20.8,\n",
       " 20.9,\n",
       " 21.0,\n",
       " 21.1,\n",
       " 21.2,\n",
       " 21.3,\n",
       " 21.4,\n",
       " 21.5,\n",
       " 21.6,\n",
       " 21.7,\n",
       " 21.8,\n",
       " 21.9,\n",
       " 22.0,\n",
       " 22.1,\n",
       " 22.2,\n",
       " 22.3,\n",
       " 22.4,\n",
       " 22.5,\n",
       " 22.6,\n",
       " 22.7,\n",
       " 22.8,\n",
       " 22.9,\n",
       " 23.0,\n",
       " 23.1,\n",
       " 23.2,\n",
       " 23.3,\n",
       " 23.4,\n",
       " 23.5,\n",
       " 23.6,\n",
       " 23.7,\n",
       " 23.8,\n",
       " 23.9,\n",
       " 24.0,\n",
       " 24.1,\n",
       " 24.2,\n",
       " 24.3,\n",
       " 24.4,\n",
       " 24.5,\n",
       " 24.6,\n",
       " 24.7,\n",
       " 24.8,\n",
       " 24.9,\n",
       " 25.0,\n",
       " 25.1,\n",
       " 25.2,\n",
       " 25.3,\n",
       " 25.4,\n",
       " 25.5,\n",
       " 25.6,\n",
       " 25.7,\n",
       " 25.8,\n",
       " 25.9,\n",
       " 26.0,\n",
       " 26.1,\n",
       " 26.2,\n",
       " 26.3,\n",
       " 26.4,\n",
       " 26.5,\n",
       " 26.6,\n",
       " 26.7,\n",
       " 26.8,\n",
       " 26.9,\n",
       " 27.0,\n",
       " 27.1,\n",
       " 27.2,\n",
       " 27.3,\n",
       " 27.4,\n",
       " 27.5,\n",
       " 27.6,\n",
       " 27.7,\n",
       " 27.8,\n",
       " 27.9,\n",
       " 28.0,\n",
       " 28.1,\n",
       " 28.2,\n",
       " 28.3,\n",
       " 28.4,\n",
       " 28.5,\n",
       " 28.6,\n",
       " 28.7,\n",
       " 28.8,\n",
       " 28.9,\n",
       " 29.0,\n",
       " 29.1,\n",
       " 29.2,\n",
       " 29.3,\n",
       " 29.4,\n",
       " 29.5,\n",
       " 29.6,\n",
       " 29.7,\n",
       " 29.9,\n",
       " 30.0,\n",
       " 30.1,\n",
       " 30.2,\n",
       " 30.3,\n",
       " 30.4,\n",
       " 30.5,\n",
       " 30.6,\n",
       " 30.7,\n",
       " 30.8,\n",
       " 30.9,\n",
       " 31.0,\n",
       " 31.1,\n",
       " 31.2,\n",
       " 31.3,\n",
       " 31.4,\n",
       " 31.5,\n",
       " 31.6,\n",
       " 31.7,\n",
       " 31.8,\n",
       " 31.9,\n",
       " 32.0,\n",
       " 32.1,\n",
       " 32.2,\n",
       " 32.3,\n",
       " 32.4,\n",
       " 32.5,\n",
       " 32.6,\n",
       " 32.7,\n",
       " 32.8,\n",
       " 32.9,\n",
       " 33.0,\n",
       " 33.1,\n",
       " 33.2,\n",
       " 33.3,\n",
       " 33.4,\n",
       " 33.5,\n",
       " 33.6,\n",
       " 33.7,\n",
       " 33.8,\n",
       " 33.9,\n",
       " 34.0,\n",
       " 34.1,\n",
       " 34.2,\n",
       " 34.3,\n",
       " 34.4,\n",
       " 34.5,\n",
       " 34.6,\n",
       " 34.7,\n",
       " 34.8,\n",
       " 34.9,\n",
       " 35.0,\n",
       " 35.1,\n",
       " 35.2,\n",
       " 35.3,\n",
       " 35.4,\n",
       " 35.5,\n",
       " 35.6,\n",
       " 35.8,\n",
       " 35.9,\n",
       " 36.0,\n",
       " 36.1,\n",
       " 36.2,\n",
       " 36.3,\n",
       " 36.4,\n",
       " 36.5,\n",
       " 36.6,\n",
       " 36.7,\n",
       " 36.8,\n",
       " 36.9,\n",
       " 37.0,\n",
       " 37.1,\n",
       " 37.2,\n",
       " 37.3,\n",
       " 37.4,\n",
       " 37.5,\n",
       " 37.6,\n",
       " 37.7,\n",
       " 37.8,\n",
       " 37.9,\n",
       " 38.0,\n",
       " 38.1,\n",
       " 38.2,\n",
       " 38.3,\n",
       " 38.4,\n",
       " 38.5,\n",
       " 38.6,\n",
       " 38.7,\n",
       " 38.8,\n",
       " 38.9,\n",
       " 39.0,\n",
       " 39.1,\n",
       " 39.2,\n",
       " 39.3,\n",
       " 39.4,\n",
       " 39.5,\n",
       " 39.6,\n",
       " 39.7,\n",
       " 39.8,\n",
       " 39.9,\n",
       " 40.0,\n",
       " 40.1,\n",
       " 40.2,\n",
       " 40.3,\n",
       " 40.4,\n",
       " 40.5,\n",
       " 40.6,\n",
       " 40.7,\n",
       " 40.8,\n",
       " 40.9,\n",
       " 41.0,\n",
       " 41.1,\n",
       " 41.2,\n",
       " 41.3,\n",
       " 41.4,\n",
       " 41.5,\n",
       " 41.6,\n",
       " 41.7,\n",
       " 41.8,\n",
       " 41.9,\n",
       " 42.0,\n",
       " 42.1,\n",
       " 42.2,\n",
       " 42.3,\n",
       " 42.4,\n",
       " 42.5,\n",
       " 42.6,\n",
       " 42.7,\n",
       " 42.8,\n",
       " 42.9,\n",
       " 43.0,\n",
       " 43.1,\n",
       " 43.2,\n",
       " 43.3,\n",
       " 43.4,\n",
       " 43.5,\n",
       " 43.8,\n",
       " 43.9,\n",
       " 44.0,\n",
       " 44.1,\n",
       " 44.2,\n",
       " 44.3,\n",
       " 44.4,\n",
       " 44.5,\n",
       " 44.6,\n",
       " 44.8,\n",
       " 44.9,\n",
       " 45.0,\n",
       " 45.1,\n",
       " 45.2,\n",
       " 45.3,\n",
       " 45.5,\n",
       " 45.6,\n",
       " 45.7,\n",
       " 45.8,\n",
       " 45.9,\n",
       " 46.0,\n",
       " 46.1,\n",
       " 46.2,\n",
       " 46.3,\n",
       " 46.4,\n",
       " 46.6,\n",
       " 46.7,\n",
       " 46.8,\n",
       " 46.9,\n",
       " 47.0,\n",
       " 47.1,\n",
       " 47.2,\n",
       " 47.3,\n",
       " 47.4,\n",
       " 47.5,\n",
       " 47.6,\n",
       " 47.7,\n",
       " 47.8,\n",
       " 47.9,\n",
       " 48.0,\n",
       " 48.1,\n",
       " 48.2,\n",
       " 48.3,\n",
       " 48.5,\n",
       " 48.6,\n",
       " 48.7,\n",
       " 48.8,\n",
       " 49.0,\n",
       " 49.1,\n",
       " 49.3,\n",
       " 49.5,\n",
       " 49.7,\n",
       " 49.8,\n",
       " 50.0,\n",
       " 50.1,\n",
       " 50.2,\n",
       " 50.3,\n",
       " 50.4,\n",
       " 50.5,\n",
       " 50.7,\n",
       " 50.8,\n",
       " 50.9,\n",
       " 51.0,\n",
       " 51.3,\n",
       " 51.4,\n",
       " 51.9,\n",
       " 52.0,\n",
       " 52.1,\n",
       " 52.2,\n",
       " 52.4,\n",
       " 52.5,\n",
       " 52.8,\n",
       " 53.0,\n",
       " 53.1,\n",
       " 53.4,\n",
       " 53.6,\n",
       " 53.7,\n",
       " 53.9,\n",
       " 54.0,\n",
       " 54.2,\n",
       " 54.4,\n",
       " 54.6,\n",
       " 54.8,\n",
       " 54.9,\n",
       " 55.1,\n",
       " 55.3,\n",
       " 55.5,\n",
       " 55.6,\n",
       " 56.0,\n",
       " 56.1,\n",
       " 56.2,\n",
       " 56.5,\n",
       " 56.8,\n",
       " 57.1,\n",
       " 57.3,\n",
       " 57.6,\n",
       " 57.7,\n",
       " 58.1,\n",
       " 58.3,\n",
       " 59.2,\n",
       " 59.4,\n",
       " 59.8,\n",
       " 60.1,\n",
       " 60.3,\n",
       " 60.9,\n",
       " 63.0,\n",
       " 63.1,\n",
       " 63.2,\n",
       " 63.7,\n",
       " 64.8,\n",
       " 65.3,\n",
       " 67.0,\n",
       " 68.3,\n",
       " 68.5,\n",
       " 70.8,\n",
       " 71.1,\n",
       " 72.1,\n",
       " 86.5,\n",
       " 114.0,\n",
       " 125.0]"
      ]
     },
     "execution_count": 30,
     "metadata": {},
     "output_type": "execute_result"
    }
   ],
   "source": [
    "unique_bmi = sorted(df['bmi'].unique())\n",
    "unique_bmi"
   ]
  },
  {
   "cell_type": "code",
   "execution_count": 31,
   "id": "38820bd9",
   "metadata": {},
   "outputs": [],
   "source": [
    "df = df[df['height'] != 228]\n",
    "df = df[df['height'] != 238]\n",
    "df = df[df['bmi'] != 86.5]\n",
    "df = df[df['bmi'] != 114]\n",
    "df = df[df['bmi'] != 125]"
   ]
  },
  {
   "cell_type": "code",
   "execution_count": 32,
   "id": "c6affcc6",
   "metadata": {},
   "outputs": [
    {
     "data": {
      "text/plain": [
       "<AxesSubplot:xlabel='bmi', ylabel='Frequency'>"
      ]
     },
     "execution_count": 32,
     "metadata": {},
     "output_type": "execute_result"
    },
    {
     "data": {
      "text/plain": [
       "<Figure size 576x360 with 0 Axes>"
      ]
     },
     "metadata": {},
     "output_type": "display_data"
    },
    {
     "data": {
      "image/png": "[encoded data removed]",
      "text/plain": [
       "<Figure size 576x360 with 2 Axes>"
      ]
     },
     "metadata": {},
     "output_type": "display_data"
    },
    {
     "data": {
      "text/plain": [
       "<Figure size 576x360 with 0 Axes>"
      ]
     },
     "metadata": {},
     "output_type": "display_data"
    },
    {
     "data": {
      "image/png": "[encoded data removed]",
      "text/plain": [
       "<Figure size 576x360 with 2 Axes>"
      ]
     },
     "metadata": {},
     "output_type": "display_data"
    }
   ],
   "source": [
    "# height plot\n",
    "plt.figure()\n",
    "plt.tight_layout()\n",
    "sns.set(rc={\"figure.figsize\":(8, 5)})\n",
    "f, (ax_box, ax_hist) = plt.subplots(2, sharex=True)\n",
    "plt.gca().set(xlabel='height',ylabel='Frequency')\n",
    "sns.boxplot(df['height'], ax=ax_box , linewidth= 1.0)\n",
    "sns.histplot(df['height'], ax=ax_hist , bins = 10,kde=True)\n",
    "\n",
    "# bmi plot\n",
    "plt.figure()\n",
    "plt.tight_layout()\n",
    "sns.set(rc={\"figure.figsize\":(8, 5)})\n",
    "f, (ax_box, ax_hist) = plt.subplots(2, sharex=True)\n",
    "plt.gca().set(xlabel='bmi',ylabel='Frequency')\n",
    "sns.boxplot(df['bmi'], ax=ax_box , linewidth= 1.0)\n",
    "sns.histplot(df['bmi'], ax=ax_hist , bins = 10,kde=True)"
   ]
  },
  {
   "cell_type": "code",
   "execution_count": 33,
   "id": "e933f542",
   "metadata": {},
   "outputs": [],
   "source": [
    "df.to_csv('D1-processed.csv', index=False)"
   ]
  },
  {
   "cell_type": "code",
   "execution_count": null,
   "id": "b99f49f7",
   "metadata": {},
   "outputs": [],
   "source": []
  }
 ],
 "metadata": {
  "kernelspec": {
   "display_name": "Python 3 (ipykernel)",
   "language": "python",
   "name": "python3"
  },
  "language_info": {
   "codemirror_mode": {
    "name": "ipython",
    "version": 3
   },
   "file_extension": ".py",
   "mimetype": "text/x-python",
   "name": "python",
   "nbconvert_exporter": "python",
   "pygments_lexer": "ipython3",
   "version": "3.9.7"
  }
 },
 "nbformat": 4,
 "nbformat_minor": 5
}
